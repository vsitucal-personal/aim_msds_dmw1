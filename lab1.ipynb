{
 "cells": [
  {
   "cell_type": "code",
   "execution_count": 183,
   "id": "b64aee81-c002-47a6-9f9a-c6fabf6e14c5",
   "metadata": {
    "execution": {
     "iopub.execute_input": "2023-11-08T21:20:29.299861Z",
     "iopub.status.busy": "2023-11-08T21:20:29.299261Z",
     "iopub.status.idle": "2023-11-08T21:20:29.355311Z",
     "shell.execute_reply": "2023-11-08T21:20:29.354217Z",
     "shell.execute_reply.started": "2023-11-08T21:20:29.299813Z"
    },
    "tags": []
   },
   "outputs": [],
   "source": [
    "from wordcloud import WordCloud, STOPWORDS\n",
    "import sqlite3\n",
    "import pandas as pd\n",
    "import os\n",
    "import gzip\n",
    "import json\n",
    "import matplotlib.pyplot as plt\n",
    "from IPython.display import display\n",
    "from IPython.display import HTML\n",
    "import matplotlib.ticker as ticker\n",
    "import warnings\n",
    "import plotly.io as pio\n",
    "\n",
    "pio.templates.default = \"plotly_dark\"\n",
    "warnings.filterwarnings('ignore')"
   ]
  },
  {
   "cell_type": "code",
   "execution_count": 2,
   "id": "bc3c5fef-fcd4-4058-8d71-5e317024bb35",
   "metadata": {
    "execution": {
     "iopub.execute_input": "2023-11-07T18:33:32.120943Z",
     "iopub.status.busy": "2023-11-07T18:33:32.120620Z",
     "iopub.status.idle": "2023-11-07T18:33:32.125451Z",
     "shell.execute_reply": "2023-11-07T18:33:32.124657Z",
     "shell.execute_reply.started": "2023-11-07T18:33:32.120922Z"
    },
    "tags": []
   },
   "outputs": [],
   "source": [
    "@ticker.FuncFormatter\n",
    "def thousand_formatter(x, pos):\n",
    "    \"\"\"Format to thousands format\n",
    "    \"\"\"\n",
    "    return \"%.1fK\" % (x/1E3)\n",
    "\n",
    "@ticker.FuncFormatter\n",
    "def million_formatter(x, pos):\n",
    "    \"\"\"Format to thousands format\n",
    "    \"\"\"\n",
    "    return \"%.1fM\" % (x/1E6)"
   ]
  },
  {
   "cell_type": "code",
   "execution_count": 3,
   "id": "4c67e8fb-cbca-4ad0-a8bf-47f8fe68a465",
   "metadata": {
    "execution": {
     "iopub.execute_input": "2023-11-07T18:33:32.126727Z",
     "iopub.status.busy": "2023-11-07T18:33:32.126427Z",
     "iopub.status.idle": "2023-11-07T18:33:32.566524Z",
     "shell.execute_reply": "2023-11-07T18:33:32.565525Z",
     "shell.execute_reply.started": "2023-11-07T18:33:32.126699Z"
    },
    "tags": []
   },
   "outputs": [
    {
     "data": {
      "text/html": [
       "\n",
       "<script\n",
       "    src=\"https://cdnjs.cloudflare.com/ajax/libs/jquery/2.0.3/jquery.min.js \">\n",
       "</script>\n",
       "<script>\n",
       "code_show=true; \n",
       "function code_toggle() {\n",
       " if (code_show){\n",
       " $('div.jp-CodeCell > div.jp-Cell-inputWrapper').hide();\n",
       " } else {\n",
       "$('div.jp-CodeCell > div.jp-Cell-inputWrapper').show();\n",
       " }\n",
       " code_show = !code_show\n",
       "} \n",
       "$( document ).ready(code_toggle);\n",
       "</script>\n",
       "<form action=\"javascript:code_toggle()\"><input type=\"submit\"\n",
       "    value=\"Click here to toggle on/off the raw code.\"></form>\n"
      ],
      "text/plain": [
       "<IPython.core.display.HTML object>"
      ]
     },
     "execution_count": 3,
     "metadata": {},
     "output_type": "execute_result"
    }
   ],
   "source": [
    "HTML('''\n",
    "<script\n",
    "    src=\"https://cdnjs.cloudflare.com/ajax/libs/jquery/2.0.3/jquery.min.js \">\n",
    "</script>\n",
    "<script>\n",
    "code_show=true; \n",
    "function code_toggle() {\n",
    " if (code_show){\n",
    " $('div.jp-CodeCell > div.jp-Cell-inputWrapper').hide();\n",
    " } else {\n",
    "$('div.jp-CodeCell > div.jp-Cell-inputWrapper').show();\n",
    " }\n",
    " code_show = !code_show\n",
    "} \n",
    "$( document ).ready(code_toggle);\n",
    "</script>\n",
    "<form action=\"javascript:code_toggle()\"><input type=\"submit\"\n",
    "    value=\"Click here to toggle on/off the raw code.\"></form>\n",
    "''')"
   ]
  },
  {
   "cell_type": "code",
   "execution_count": 4,
   "id": "f8fa111b-e94a-4a84-bc4b-5513ade3354a",
   "metadata": {
    "execution": {
     "iopub.execute_input": "2023-11-07T18:33:32.567863Z",
     "iopub.status.busy": "2023-11-07T18:33:32.567569Z",
     "iopub.status.idle": "2023-11-07T18:33:32.576429Z",
     "shell.execute_reply": "2023-11-07T18:33:32.575559Z",
     "shell.execute_reply.started": "2023-11-07T18:33:32.567839Z"
    },
    "tags": []
   },
   "outputs": [],
   "source": [
    "ARXIV_DATASET = '/mnt/data/public/arxiv/arxiv-metadata-oai-snapshot.json'\n",
    "OPENALEX_PATH = '/mnt/data/public/openalex/data/works/updated_date=2023-08-29/'"
   ]
  },
  {
   "cell_type": "code",
   "execution_count": 5,
   "id": "9a93a231-3120-4b54-8f35-e7ebf634da20",
   "metadata": {
    "execution": {
     "iopub.execute_input": "2023-11-07T18:33:32.577713Z",
     "iopub.status.busy": "2023-11-07T18:33:32.577436Z",
     "iopub.status.idle": "2023-11-07T18:33:32.594740Z",
     "shell.execute_reply": "2023-11-07T18:33:32.593457Z",
     "shell.execute_reply.started": "2023-11-07T18:33:32.577685Z"
    },
    "tags": []
   },
   "outputs": [],
   "source": [
    "# Any title suggestions?"
   ]
  },
  {
   "cell_type": "markdown",
   "id": "2379adcd-f7ed-465a-869d-cf98785ff0a1",
   "metadata": {
    "jp-MarkdownHeadingCollapsed": true,
    "tags": []
   },
   "source": [
    "<a name=\"top\"></a>\n",
    "## Table of Contents\n",
    "***\n",
    "[ref0]: #abs\n",
    "- [Executive Summary][ref0]\n",
    "\n",
    "[ref1]: #intro\n",
    "- [Introduction][ref1]\n",
    "\n",
    "[ref2]: #probs\n",
    "- [Problem Statement][ref2]\n",
    "\n",
    "[ref3]: #dsscope\n",
    "- [Dataset Exploration and Scope][ref3]\n",
    "\n",
    "[ref4]: #meth\n",
    "- [Methodology][ref4]\n",
    "\n",
    "    [ref4_1]: #meth_1\n",
    "    - [Setup sqlite3 connection][ref4_1]\n",
    "\n",
    "    [ref4_2]: #meth_2\n",
    "    - [Prepare OpenAlex Dataset][ref4_2]    \n",
    "    \n",
    "    [ref4_3]: #meth_3\n",
    "    - [Prepare ArXiv Dataset][ref4_3]\n",
    "\n",
    "[ref5]: #analy\n",
    "- [Analysis][ref5]\n",
    "\n",
    "    [ref5_1]: #analy_1\n",
    "    - [Open Access Articles][ref5_1]\n",
    "\n",
    "    [ref5_2]: #analy_2\n",
    "    - [ArXiv Open Access Articles][ref5_2]    \n",
    "    \n",
    "    [ref5_3]: #analy_3\n",
    "    - [Not Open Access Arrticles][ref5_3] \n",
    "    \n",
    "    [ref5_4]: #analy_4\n",
    "    - [Calculation of Open Access, Not Open Access and ArxiV only Percentages of Indexed Article][ref5_4] \n",
    "    \n",
    "    [ref5_5]: #analy_5\n",
    "    - [Calculation of Cited by Ratio][ref5_5]\n",
    "    \n",
    "    [ref5_6]: #analy_6\n",
    "    - [Get the proportion of papers with funding][ref5_6]\n",
    "    \n",
    "    \n",
    "    [ref5_7]: #analy_7\n",
    "    - [Visualizations][ref5_7] \n",
    "    \n",
    "        [ref5_7_1]: #analy_7_1\n",
    "        - [Cited by Ratios and Open Access Percentages][ref5_7_1]\n",
    "        \n",
    "        [ref5_7_2]: #analy_7_2\n",
    "        - [Funding Percentages][ref5_7_2]\n",
    "        \n",
    "        [ref5_7_3]: #analy_7_3\n",
    "        - [Top 5 Insights][ref5_7_3]\n",
    "        \n",
    "[ref6]: #conc\n",
    "- [Conclusion][ref6]\n",
    "\n",
    "[ref7]: #rfn\n",
    "- [References][ref7]"
   ]
  },
  {
   "cell_type": "markdown",
   "id": "e2b363ae-81e2-4955-b46a-99616bac7ede",
   "metadata": {},
   "source": [
    "# An Inquiry into the State of Open Access Research from 2022 to the Present: Insights from OpenAlex and ArXiV"
   ]
  },
  {
   "cell_type": "markdown",
   "id": "2919f5e0-6e9c-4480-afe9-e69b823162b5",
   "metadata": {},
   "source": [
    "<a name=\"abs\"></a>\n",
    "## Executive Summary\n",
    "***\n",
    "In this lab report, we explore the state of open access research in the world by investigating data from the ArXiV and OpenAlex repositories for the period 2022 to present. Articles are classified as open access and paid access. The percentage of open access articles coming from ArXiv are identified. Insights are then obtained from the processed data - `Cited by Rations`, `Open Access Percentage`, `Funding Percentages` and `Top 5 countries and concepts`.\n",
    "\n",
    "The report finds that roughly fewer than half of all articles are open access, with ArXiV only contributing a small percentage of the open access contribution of new research generated from 2022 to the present. Suprisingly, new articles that are behind a paywall are cited more times (0.71 times) than open acess articles (0.42 times), though open access articles coming specifically from ArXiv significantly gets cited more often than its OpenAlex-indexed counterparts (1.16 times).\n",
    "\n",
    "In terms of articles with grants/funding, it is observed that a significant percentage of articles are unfunded (90.34%). On the funded articles it is observed that paid access articles' funding percentage is significantly high (68.70%). Further, this lab report may be used to track future development for both repositories. Finally, of all the partitions ArXiv articles are getting good funding (44.55% funded) compared to open access (6.31% funded) and paid access (12.36%) in general. \n",
    "\n",
    "This report also identified the US and China as top country of origin for both open access and not open access articles. For research themes and concepts for the open access and not open access group was Computer Science and for ArXiV only group the top concept was Physics.  \n",
    "\n",
    "[ref]: #top\n",
    "[top][ref]"
   ]
  },
  {
   "cell_type": "markdown",
   "id": "3ba0b530-e62e-41bf-b48c-f0bb1f09c2fd",
   "metadata": {},
   "source": [
    "<a name=\"intro\"></a>\n",
    "## Introduction\n",
    "***\n",
    "Knowledge is a crucial commodity to fuel economic growth and development through technological and human capital advancement. The widespread dissemination of research and knowledge has the potential to yield large and potentially recurring positive externalities. However, access to some portions of new and existing research knowledge is barred by financial walls, limiting the consumers of research knowledge by no small degree only to those who can afford it. While the economics behind the business of research publication is undeniably complex and necessitates the existence of paywalls, it is equally undeniable that these financial barriers are denying people from less affluent societies the opportunity to leverage research findings to fuel development via further knowledge generation or practical applications.\n",
    "\n",
    "[ref]: #top\n",
    "[top][ref]"
   ]
  },
  {
   "cell_type": "markdown",
   "id": "2c4bcf36-8489-4264-ae8d-dd8e36d383fa",
   "metadata": {
    "tags": []
   },
   "source": [
    "<a name=\"probs\"></a>\n",
    "## Research Questions\n",
    "***\n",
    "What is the state of open access research according to ArXiV and OpenAlex for the period 2022 to present?\n",
    "* What percentage of OpenAlex articles are open access?\n",
    "* What percentage open access articles are available for free in ArXiV?\n",
    "* Which group of articles (open access, paid access, ArXiV only) receive funding/grants?\n",
    "* Which research themes or concepts dominate each group (open access, paid access, ArXiV only)?\n",
    "* Which countries publish the most number of articles in each group (open access, paid access, ArXiV only)?\n",
    "\n",
    "Does being open access have a significant impact on the usability of new research work?\n",
    "\n",
    "[ref]: #top\n",
    "[top][ref]"
   ]
  },
  {
   "cell_type": "markdown",
   "id": "56a82b76-bad7-4954-80a1-2a3e2697f0fd",
   "metadata": {
    "execution": {
     "iopub.execute_input": "2023-11-06T02:05:42.213847Z",
     "iopub.status.busy": "2023-11-06T02:05:42.213306Z",
     "iopub.status.idle": "2023-11-06T02:05:42.220051Z",
     "shell.execute_reply": "2023-11-06T02:05:42.218652Z",
     "shell.execute_reply.started": "2023-11-06T02:05:42.213795Z"
    },
    "tags": []
   },
   "source": [
    "<a name=\"dsscope\"></a>\n",
    "## Dataset Exploration and Scope\n",
    "***"
   ]
  },
  {
   "cell_type": "markdown",
   "id": "441f854c-4041-4178-8b0d-0515d7711c4a",
   "metadata": {
    "tags": []
   },
   "source": [
    "### OpenAlex (primary dataset)\n",
    "- <u>OpenAlex</u> is an indexing service for the world's research.\n",
    "- Contents of `/mnt/data/public/openalex/data/works/updated date=2023-08-29/*` for data of individual scholary submissions\n",
    "- Selected this partition as latest snapshot has too many parts and is temporaly expensive to load\n",
    "- `publication_year` is from 2022-Present timeframe (08 Nov 2023)"
   ]
  },
  {
   "cell_type": "code",
   "execution_count": 6,
   "id": "e118e398-d553-4377-9740-fb7fd680893d",
   "metadata": {
    "execution": {
     "iopub.execute_input": "2023-11-07T18:33:32.596586Z",
     "iopub.status.busy": "2023-11-07T18:33:32.596140Z",
     "iopub.status.idle": "2023-11-07T18:33:32.625750Z",
     "shell.execute_reply": "2023-11-07T18:33:32.624739Z",
     "shell.execute_reply.started": "2023-11-07T18:33:32.596541Z"
    },
    "tags": []
   },
   "outputs": [
    {
     "name": "stdout",
     "output_type": "stream",
     "text": [
      "OpenAlex Fields:\n"
     ]
    },
    {
     "data": {
      "text/plain": [
       "['is_retracted',\n",
       " 'apc_list',\n",
       " 'countries_distinct_count',\n",
       " 'is_paratext',\n",
       " 'cited_by_api_url',\n",
       " 'counts_by_year',\n",
       " 'biblio',\n",
       " 'primary_location',\n",
       " 'language',\n",
       " 'related_works',\n",
       " 'title',\n",
       " 'type',\n",
       " 'corresponding_institution_ids',\n",
       " 'summary_stats',\n",
       " 'publication_date',\n",
       " 'open_access',\n",
       " 'authorships',\n",
       " 'id',\n",
       " 'institutions_distinct_count',\n",
       " 'abstract_inverted_index',\n",
       " 'sustainable_development_goals',\n",
       " 'mesh',\n",
       " 'grants',\n",
       " 'best_oa_location',\n",
       " 'cited_by_count',\n",
       " 'concepts_count',\n",
       " 'referenced_works',\n",
       " 'type_crossref',\n",
       " 'referenced_works_count',\n",
       " 'display_name',\n",
       " 'doi_registration_agency',\n",
       " 'publication_year',\n",
       " 'concepts',\n",
       " 'authors_count',\n",
       " 'ids',\n",
       " 'locations_count',\n",
       " 'locations',\n",
       " 'corresponding_author_ids',\n",
       " 'updated_date',\n",
       " 'created_date',\n",
       " 'apc_paid',\n",
       " 'updated',\n",
       " 'doi']"
      ]
     },
     "metadata": {},
     "output_type": "display_data"
    }
   ],
   "source": [
    "with gzip.open(\n",
    "    OPENALEX_PATH+'part_000.gz',\n",
    "    'r'\n",
    ") as f:\n",
    "    for line in f:\n",
    "        print(\"OpenAlex Fields:\")\n",
    "        article = json.loads(line)\n",
    "        display(list(article.keys()))\n",
    "        break"
   ]
  },
  {
   "cell_type": "markdown",
   "id": "bff9d3be-8b34-4ae8-819f-37be9650580d",
   "metadata": {},
   "source": [
    "See https://docs.openalex.org/api-entities/works/work-object for reference\\\n",
    "Important fields to utilize:\n",
    "- `authorships` - list of authors associated to the article\n",
    "    - More info about authr object fields: https://docs.openalex.org/api-entities/authors/author-object\n",
    "    - Notable fields to be leveraged:\n",
    "        - <u>`countries`</u> - list of country codes, main country is the first element of the list\n",
    "    - This lab report will get the top contry code in countries to associate a `extracted_country` to the article"
   ]
  },
  {
   "cell_type": "markdown",
   "id": "ff5904a6-116f-4138-94f0-1927e2271a6a",
   "metadata": {},
   "source": [
    "For the article above the `extracted_country` would be `US`:"
   ]
  },
  {
   "cell_type": "code",
   "execution_count": 7,
   "id": "87f61c65-b072-4357-90f1-deb3e7b134e8",
   "metadata": {
    "execution": {
     "iopub.execute_input": "2023-11-07T18:33:32.629912Z",
     "iopub.status.busy": "2023-11-07T18:33:32.629046Z",
     "iopub.status.idle": "2023-11-07T18:33:32.637547Z",
     "shell.execute_reply": "2023-11-07T18:33:32.636671Z",
     "shell.execute_reply.started": "2023-11-07T18:33:32.629860Z"
    },
    "tags": []
   },
   "outputs": [
    {
     "name": "stdout",
     "output_type": "stream",
     "text": [
      "Title\n"
     ]
    },
    {
     "data": {
      "text/plain": [
       "'The obligatory role of endothelial cells in the relaxation of arterial smooth muscle by acetylcholine'"
      ]
     },
     "metadata": {},
     "output_type": "display_data"
    },
    {
     "name": "stdout",
     "output_type": "stream",
     "text": [
      "extracted_country\n"
     ]
    },
    {
     "data": {
      "text/plain": [
       "'US'"
      ]
     },
     "metadata": {},
     "output_type": "display_data"
    }
   ],
   "source": [
    "authorships = article['authorships']\n",
    "print('Title')\n",
    "display(article['title'])\n",
    "print('extracted_country')\n",
    "display(authorships[0]['countries'][0])"
   ]
  },
  {
   "cell_type": "markdown",
   "id": "3f0f94bf-a7be-4a33-af05-a1dd350e6821",
   "metadata": {},
   "source": [
    "- `cited_by_count` - These are the times that other works have cited this work\n",
    "\n",
    "For the article above the `cited_by_count` would be:"
   ]
  },
  {
   "cell_type": "code",
   "execution_count": 8,
   "id": "1715920d-6893-4337-be69-844093e5c566",
   "metadata": {
    "execution": {
     "iopub.execute_input": "2023-11-07T18:33:32.639124Z",
     "iopub.status.busy": "2023-11-07T18:33:32.638431Z",
     "iopub.status.idle": "2023-11-07T18:33:32.653526Z",
     "shell.execute_reply": "2023-11-07T18:33:32.652444Z",
     "shell.execute_reply.started": "2023-11-07T18:33:32.639093Z"
    },
    "tags": []
   },
   "outputs": [
    {
     "data": {
      "text/plain": [
       "11260"
      ]
     },
     "execution_count": 8,
     "metadata": {},
     "output_type": "execute_result"
    }
   ],
   "source": [
    "article['cited_by_count']"
   ]
  },
  {
   "cell_type": "markdown",
   "id": "88ea7b88-1d9b-437c-9af9-6864dbea9df7",
   "metadata": {},
   "source": [
    "- `grants` - list of funders\n",
    "    - More info about funde object: https://docs.openalex.org/api-entities/funders\n",
    "    - Not all works has this if not present then `top_funder` is null\n",
    "    - Notable fields:\n",
    "        - `display_name` - name of funder"
   ]
  },
  {
   "cell_type": "code",
   "execution_count": 9,
   "id": "774751eb-b8e0-464d-b5c0-cce848fae226",
   "metadata": {
    "execution": {
     "iopub.execute_input": "2023-11-07T18:33:32.655151Z",
     "iopub.status.busy": "2023-11-07T18:33:32.654887Z",
     "iopub.status.idle": "2023-11-07T18:33:32.671944Z",
     "shell.execute_reply": "2023-11-07T18:33:32.670844Z",
     "shell.execute_reply.started": "2023-11-07T18:33:32.655125Z"
    },
    "tags": []
   },
   "outputs": [
    {
     "data": {
      "text/plain": [
       "[]"
      ]
     },
     "execution_count": 9,
     "metadata": {},
     "output_type": "execute_result"
    }
   ],
   "source": [
    "article['grants']"
   ]
  },
  {
   "cell_type": "markdown",
   "id": "15df64bf-7bb8-402a-afe1-7c413bf98154",
   "metadata": {},
   "source": [
    "- `open_access`\n",
    "    - More info about open access object: https://docs.openalex.org/api-entities/works/work-object#the-openaccess-object\n",
    "    - Not all works has this if not present then `is_oa` is False\n",
    "    - Notable fields:\n",
    "        - `is_oa` - whether paper is open access"
   ]
  },
  {
   "cell_type": "code",
   "execution_count": 10,
   "id": "c2cf0235-d9e8-4396-8c5e-57ffa14817b5",
   "metadata": {
    "execution": {
     "iopub.execute_input": "2023-11-07T18:33:32.673606Z",
     "iopub.status.busy": "2023-11-07T18:33:32.673231Z",
     "iopub.status.idle": "2023-11-07T18:33:32.745390Z",
     "shell.execute_reply": "2023-11-07T18:33:32.744314Z",
     "shell.execute_reply.started": "2023-11-07T18:33:32.673569Z"
    },
    "tags": []
   },
   "outputs": [
    {
     "data": {
      "text/plain": [
       "{'oa_status': 'closed',\n",
       " 'is_oa': False,\n",
       " 'oa_url': None,\n",
       " 'any_repository_has_fulltext': False}"
      ]
     },
     "execution_count": 10,
     "metadata": {},
     "output_type": "execute_result"
    }
   ],
   "source": [
    "article['open_access']"
   ]
  },
  {
   "cell_type": "markdown",
   "id": "7bb7b106-4ec6-48e9-acd1-112f0dc3b729",
   "metadata": {
    "execution": {
     "iopub.execute_input": "2023-11-06T04:40:28.632095Z",
     "iopub.status.busy": "2023-11-06T04:40:28.631574Z",
     "iopub.status.idle": "2023-11-06T04:40:28.640142Z",
     "shell.execute_reply": "2023-11-06T04:40:28.638288Z",
     "shell.execute_reply.started": "2023-11-06T04:40:28.632047Z"
    },
    "tags": []
   },
   "source": [
    "- `concepts` - list of research concepts associated to the article\n",
    "    - More info about concept object fields: https://docs.openalex.org/api-entities/concepts/concept-object\n",
    "    - Notable fields to be leveraged:\n",
    "        - <u>`level`</u> - The `level` in the concept tree where this concept lives. Lower-level concepts are more general, and higher-level concepts are more specific. `Computer Science` has a level of 0; `Java Bytecode` has a level of 5. Level 0 concepts have no ancestors and level 5 concepts have no descendants.\n",
    "        - <u>`score`</u> - The strength of association witht the article\n",
    "        - <u>`display_name`</u> - The actual concept\n",
    "    - This lab report will get the top scored level 0 concept to associated a `top_concept` to the article"
   ]
  },
  {
   "cell_type": "markdown",
   "id": "8b5b58c0-fdf8-4966-9765-1e1ed47b3216",
   "metadata": {},
   "source": [
    "For the article above the `top_concept` would be `Chemistry`:"
   ]
  },
  {
   "cell_type": "code",
   "execution_count": 11,
   "id": "d440662d-71d4-465e-bc44-dab6a4eb3a2e",
   "metadata": {
    "execution": {
     "iopub.execute_input": "2023-11-07T18:33:32.747452Z",
     "iopub.status.busy": "2023-11-07T18:33:32.746999Z",
     "iopub.status.idle": "2023-11-07T18:33:33.534953Z",
     "shell.execute_reply": "2023-11-07T18:33:33.533950Z",
     "shell.execute_reply.started": "2023-11-07T18:33:32.747408Z"
    },
    "tags": []
   },
   "outputs": [
    {
     "name": "stdout",
     "output_type": "stream",
     "text": [
      "Title\n"
     ]
    },
    {
     "data": {
      "text/plain": [
       "'The obligatory role of endothelial cells in the relaxation of arterial smooth muscle by acetylcholine'"
      ]
     },
     "metadata": {},
     "output_type": "display_data"
    },
    {
     "name": "stdout",
     "output_type": "stream",
     "text": [
      "top_concept:\n"
     ]
    },
    {
     "data": {
      "text/plain": [
       "{'score': 0.54185396,\n",
       " 'level': 0,\n",
       " 'id': 'https://openalex.org/C185592680',\n",
       " 'display_name': 'Chemistry',\n",
       " 'wikidata': 'https://www.wikidata.org/wiki/Q2329'}"
      ]
     },
     "metadata": {},
     "output_type": "display_data"
    }
   ],
   "source": [
    "concepts = article['concepts']\n",
    "level_0_concepts = sorted(\n",
    "    [d for d in concepts if d['level'] == 0],\n",
    "    key=lambda x: x['score'],\n",
    "    reverse=True\n",
    ")\n",
    "print('Title')\n",
    "display(article['title'])\n",
    "print('top_concept:')\n",
    "display(level_0_concepts[0])"
   ]
  },
  {
   "cell_type": "markdown",
   "id": "53c6fd0c-897d-4583-b812-ef04ebde4fbc",
   "metadata": {},
   "source": [
    "[ref]: #top\n",
    "[top][ref]"
   ]
  },
  {
   "cell_type": "markdown",
   "id": "b600ccf4-03f4-4fc7-829f-dfccc241ee99",
   "metadata": {},
   "source": [
    "### ArXiv (supplementary dataset)\n",
    "- <u>ArXiv</u> on the other hand is an open access to scholarly articles where you can download the PDFs free of charge.\n",
    "- From `/mnt/data/public/arxiv/arxiv-metadata-oai-snapshot.json`\n",
    "- `v1 date` is from 2022-Present timeframe"
   ]
  },
  {
   "cell_type": "markdown",
   "id": "321d3bc5-99a7-4d55-ba45-b64fdb55ba41",
   "metadata": {},
   "source": [
    "Exploring fields in ArXiv Dataset:"
   ]
  },
  {
   "cell_type": "code",
   "execution_count": 12,
   "id": "6adb3fd3-b901-4cf6-bf9a-87ecc4efc69f",
   "metadata": {
    "execution": {
     "iopub.execute_input": "2023-11-07T18:33:33.536894Z",
     "iopub.status.busy": "2023-11-07T18:33:33.536448Z",
     "iopub.status.idle": "2023-11-07T18:33:33.575561Z",
     "shell.execute_reply": "2023-11-07T18:33:33.574414Z",
     "shell.execute_reply.started": "2023-11-07T18:33:33.536850Z"
    },
    "tags": []
   },
   "outputs": [
    {
     "name": "stdout",
     "output_type": "stream",
     "text": [
      "ArXiv Fields:\n"
     ]
    },
    {
     "data": {
      "text/plain": [
       "['id',\n",
       " 'submitter',\n",
       " 'authors',\n",
       " 'title',\n",
       " 'comments',\n",
       " 'journal-ref',\n",
       " 'doi',\n",
       " 'report-no',\n",
       " 'categories',\n",
       " 'license',\n",
       " 'abstract',\n",
       " 'versions',\n",
       " 'update_date',\n",
       " 'authors_parsed']"
      ]
     },
     "metadata": {},
     "output_type": "display_data"
    }
   ],
   "source": [
    "with open(ARXIV_DATASET, 'r') as f:\n",
    "    for i, line in enumerate(f):\n",
    "        article = json.loads(line)\n",
    "        print(\"ArXiv Fields:\")\n",
    "        display(list(article.keys()))\n",
    "        break"
   ]
  },
  {
   "cell_type": "markdown",
   "id": "ae3b7dc6-e37c-4cbf-a0da-769c38d46228",
   "metadata": {},
   "source": [
    "Important fields to utilize:\n",
    "- `id` - ArXiv id (used to find the open access article in ArXiv)\n",
    "- `doi` - digital object identifier of the article (join key)\n",
    "- `versions` - list of versions of the article, v1 is the when the article was first seen \n",
    "    - in this report the v1 date will be treated as the publication date/year"
   ]
  },
  {
   "cell_type": "code",
   "execution_count": 13,
   "id": "cf14cfd0-506c-4da7-9e83-e7cedd9fdd92",
   "metadata": {
    "execution": {
     "iopub.execute_input": "2023-11-07T18:33:33.577256Z",
     "iopub.status.busy": "2023-11-07T18:33:33.576850Z",
     "iopub.status.idle": "2023-11-07T18:33:33.584142Z",
     "shell.execute_reply": "2023-11-07T18:33:33.583253Z",
     "shell.execute_reply.started": "2023-11-07T18:33:33.577215Z"
    },
    "tags": []
   },
   "outputs": [
    {
     "data": {
      "text/plain": [
       "[{'version': 'v1', 'created': 'Mon, 2 Apr 2007 19:18:42 GMT'},\n",
       " {'version': 'v2', 'created': 'Tue, 24 Jul 2007 20:10:27 GMT'}]"
      ]
     },
     "execution_count": 13,
     "metadata": {},
     "output_type": "execute_result"
    }
   ],
   "source": [
    "article['versions']"
   ]
  },
  {
   "cell_type": "markdown",
   "id": "bf3570d9-7ef9-41db-a16d-2c03941b786a",
   "metadata": {
    "execution": {
     "iopub.execute_input": "2023-11-07T03:29:27.665813Z",
     "iopub.status.busy": "2023-11-07T03:29:27.664952Z",
     "iopub.status.idle": "2023-11-07T03:29:27.672963Z",
     "shell.execute_reply": "2023-11-07T03:29:27.671364Z",
     "shell.execute_reply.started": "2023-11-07T03:29:27.665765Z"
    },
    "tags": []
   },
   "source": [
    "[ref]: #top\n",
    "[top][ref]"
   ]
  },
  {
   "cell_type": "markdown",
   "id": "ee5979f6-d16c-4bd0-9729-fb83978ee028",
   "metadata": {
    "execution": {
     "iopub.execute_input": "2023-11-06T02:32:13.738296Z",
     "iopub.status.busy": "2023-11-06T02:32:13.737641Z",
     "iopub.status.idle": "2023-11-06T02:32:13.743252Z",
     "shell.execute_reply": "2023-11-06T02:32:13.742358Z",
     "shell.execute_reply.started": "2023-11-06T02:32:13.738248Z"
    },
    "tags": []
   },
   "source": [
    "<a name=\"meth\"></a>\n",
    "## Methodology\n",
    "***"
   ]
  },
  {
   "cell_type": "markdown",
   "id": "5c5e5df5-c8f4-47d9-9b3a-f6ede46c8392",
   "metadata": {},
   "source": [
    "<a name=\"meth_1\"></a>\n",
    "### Setup sqlite3 connection"
   ]
  },
  {
   "cell_type": "markdown",
   "id": "df1acf4b-019a-4522-bc35-5746b62d8569",
   "metadata": {},
   "source": [
    "Setup sqlite connection in `lab1.db` "
   ]
  },
  {
   "cell_type": "code",
   "execution_count": 54,
   "id": "ffd16be4-8017-4893-b910-b3c150608f80",
   "metadata": {
    "execution": {
     "iopub.execute_input": "2023-11-07T22:49:45.888212Z",
     "iopub.status.busy": "2023-11-07T22:49:45.887422Z",
     "iopub.status.idle": "2023-11-07T22:49:45.896866Z",
     "shell.execute_reply": "2023-11-07T22:49:45.895857Z",
     "shell.execute_reply.started": "2023-11-07T22:49:45.888164Z"
    },
    "tags": []
   },
   "outputs": [],
   "source": [
    "db_conn = sqlite3.connect('lab1.db')"
   ]
  },
  {
   "cell_type": "markdown",
   "id": "5452b8d7-70e7-414e-9078-d4b0de6f46e8",
   "metadata": {},
   "source": [
    "[ref]: #top\n",
    "[top][ref]"
   ]
  },
  {
   "cell_type": "markdown",
   "id": "f936fece-6f17-42ff-827c-577d3bb7077f",
   "metadata": {},
   "source": [
    "<a name=\"meth_2\"></a>\n",
    "### Prepare OpenAlex Dataset (~40mins)"
   ]
  },
  {
   "cell_type": "markdown",
   "id": "a2a1640d-9b1f-4288-915e-b91abdd308d9",
   "metadata": {},
   "source": [
    "Helper Functions for OpenAlex Dataset Extraction:"
   ]
  },
  {
   "cell_type": "code",
   "execution_count": 15,
   "id": "c03f2753-b838-4de8-a9a8-cbbd5bbfeff2",
   "metadata": {
    "execution": {
     "iopub.execute_input": "2023-11-07T18:33:33.642628Z",
     "iopub.status.busy": "2023-11-07T18:33:33.642261Z",
     "iopub.status.idle": "2023-11-07T18:33:33.653309Z",
     "shell.execute_reply": "2023-11-07T18:33:33.652286Z",
     "shell.execute_reply.started": "2023-11-07T18:33:33.642596Z"
    },
    "tags": []
   },
   "outputs": [],
   "source": [
    "def extract_countries(row):\n",
    "    \"\"\"Transform `authorships` column into `extracted_countries` column.\n",
    "    \"\"\"\n",
    "    if row['authorships'] and len(row['authorships']) > 0:\n",
    "        country_list = row['authorships'][0]['countries']\n",
    "        if len(country_list) > 0:\n",
    "            return country_list[0]\n",
    "        else:\n",
    "            return None\n",
    "    else:\n",
    "        return None\n",
    "\n",
    "\n",
    "def extract_top_concept(row):\n",
    "    \"\"\"Transform `concepts` column into `top_concept` column.\n",
    "    \"\"\"\n",
    "    concepts = row['concepts']\n",
    "    if concepts and len(concepts) > 0:\n",
    "        level_0_concepts = sorted(\n",
    "            [d for d in concepts if d['level'] == 0],\n",
    "            key=lambda x: x['score'],\n",
    "            reverse=True\n",
    "        )\n",
    "        top_concept = level_0_concepts[0]['display_name']\n",
    "        return top_concept\n",
    "    else:\n",
    "        return None\n",
    "\n",
    "\n",
    "def extract_grants(row):\n",
    "    \"\"\"Transform `grants` column into `top_funder` column.\n",
    "    \"\"\"\n",
    "    if len(row.get('grants', [])) > 0:\n",
    "        return row['grants'][0]['funder_display_name']\n",
    "    return None\n",
    "\n",
    "\n",
    "def extract_is_oa(row):\n",
    "    if len(row.get('open_access', [])) > 0:\n",
    "        return row['open_access']['is_oa']\n",
    "    return False"
   ]
  },
  {
   "cell_type": "markdown",
   "id": "05244f26-f6c1-4cff-9d80-bce8cb2a86e5",
   "metadata": {},
   "source": [
    "OpenAlex Dataset from partition `2023-08-29`in `/mnt/data/public/openalex/data/works/updated_date=2023-08-29/` directory"
   ]
  },
  {
   "cell_type": "code",
   "execution_count": 16,
   "id": "dcc0bbb6-1119-43e0-a6a2-c0017fb70ede",
   "metadata": {
    "execution": {
     "iopub.execute_input": "2023-11-07T18:33:33.654518Z",
     "iopub.status.busy": "2023-11-07T18:33:33.654240Z",
     "iopub.status.idle": "2023-11-07T18:33:33.684097Z",
     "shell.execute_reply": "2023-11-07T18:33:33.682837Z",
     "shell.execute_reply.started": "2023-11-07T18:33:33.654472Z"
    },
    "tags": []
   },
   "outputs": [
    {
     "data": {
      "text/plain": [
       "['part_009.gz',\n",
       " 'part_007.gz',\n",
       " 'part_005.gz',\n",
       " 'part_000.gz',\n",
       " 'part_002.gz',\n",
       " 'part_001.gz',\n",
       " 'part_008.gz',\n",
       " 'part_006.gz',\n",
       " 'part_004.gz',\n",
       " 'part_003.gz']"
      ]
     },
     "metadata": {},
     "output_type": "display_data"
    }
   ],
   "source": [
    "works_parts = os.listdir(\n",
    "    OPENALEX_PATH\n",
    ")\n",
    "display(works_parts)"
   ]
  },
  {
   "cell_type": "markdown",
   "id": "992bad75-e0f4-4758-a5ea-4bf306ddc1f9",
   "metadata": {},
   "source": [
    "Extract OpenAlex Dataset to Pandas Dataframe\n",
    "- Select `title`, `doi`, `authoriships`, `concepts` and `publication_year` (relevant columns only)\n",
    "- Filter where `publication_year` is from 2022-Present\n",
    "- Remove articles without doi (can't be joined anyway)\n",
    "- Create `top_concept` column extracted from `concepts` column transformation\n",
    "- Create `extracted_countries` column extracted from `authorships` column transformation\n",
    "- Create `top_funder` column extracted from `grants` column transformation\n",
    "- Create `is_oa` column extracted from `open_access` column transformation"
   ]
  },
  {
   "cell_type": "code",
   "execution_count": 17,
   "id": "c40ff981-1435-4c86-aa31-7c4b3cb56646",
   "metadata": {
    "execution": {
     "iopub.execute_input": "2023-11-07T18:33:33.685489Z",
     "iopub.status.busy": "2023-11-07T18:33:33.685174Z",
     "iopub.status.idle": "2023-11-07T19:10:30.858181Z",
     "shell.execute_reply": "2023-11-07T19:10:30.857134Z",
     "shell.execute_reply.started": "2023-11-07T18:33:33.685458Z"
    },
    "tags": []
   },
   "outputs": [
    {
     "data": {
      "text/plain": [
       "'part_009.gz'"
      ]
     },
     "metadata": {},
     "output_type": "display_data"
    },
    {
     "data": {
      "text/plain": [
       "'part_007.gz'"
      ]
     },
     "metadata": {},
     "output_type": "display_data"
    },
    {
     "data": {
      "text/plain": [
       "'part_005.gz'"
      ]
     },
     "metadata": {},
     "output_type": "display_data"
    },
    {
     "data": {
      "text/plain": [
       "'part_000.gz'"
      ]
     },
     "metadata": {},
     "output_type": "display_data"
    },
    {
     "data": {
      "text/plain": [
       "'part_002.gz'"
      ]
     },
     "metadata": {},
     "output_type": "display_data"
    },
    {
     "data": {
      "text/plain": [
       "'part_001.gz'"
      ]
     },
     "metadata": {},
     "output_type": "display_data"
    },
    {
     "data": {
      "text/plain": [
       "'part_008.gz'"
      ]
     },
     "metadata": {},
     "output_type": "display_data"
    },
    {
     "data": {
      "text/plain": [
       "'part_006.gz'"
      ]
     },
     "metadata": {},
     "output_type": "display_data"
    },
    {
     "data": {
      "text/plain": [
       "'part_004.gz'"
      ]
     },
     "metadata": {},
     "output_type": "display_data"
    },
    {
     "data": {
      "text/plain": [
       "'part_003.gz'"
      ]
     },
     "metadata": {},
     "output_type": "display_data"
    },
    {
     "data": {
      "text/html": [
       "<div>\n",
       "<style scoped>\n",
       "    .dataframe tbody tr th:only-of-type {\n",
       "        vertical-align: middle;\n",
       "    }\n",
       "\n",
       "    .dataframe tbody tr th {\n",
       "        vertical-align: top;\n",
       "    }\n",
       "\n",
       "    .dataframe thead th {\n",
       "        text-align: right;\n",
       "    }\n",
       "</style>\n",
       "<table border=\"1\" class=\"dataframe\">\n",
       "  <thead>\n",
       "    <tr style=\"text-align: right;\">\n",
       "      <th></th>\n",
       "      <th>title</th>\n",
       "      <th>doi</th>\n",
       "      <th>authorships</th>\n",
       "      <th>concepts</th>\n",
       "      <th>publication_year</th>\n",
       "      <th>cited_by_count</th>\n",
       "      <th>grants</th>\n",
       "      <th>open_access</th>\n",
       "      <th>top_concept</th>\n",
       "      <th>extracted_countries</th>\n",
       "      <th>top_funder</th>\n",
       "      <th>is_oa</th>\n",
       "    </tr>\n",
       "  </thead>\n",
       "  <tbody>\n",
       "    <tr>\n",
       "      <th>0</th>\n",
       "      <td>O pojęciu godności narodowej w polskiej myśli ...</td>\n",
       "      <td>https://doi.org/10.11649/sn.2012.007</td>\n",
       "      <td>[{'institutions': [{'lineage': ['https://opena...</td>\n",
       "      <td>[{'score': 0.94091177, 'level': 2, 'id': 'http...</td>\n",
       "      <td>2022</td>\n",
       "      <td>0</td>\n",
       "      <td>[]</td>\n",
       "      <td>{'oa_status': 'gold', 'is_oa': True, 'oa_url':...</td>\n",
       "      <td>Sociology</td>\n",
       "      <td>PL</td>\n",
       "      <td>None</td>\n",
       "      <td>True</td>\n",
       "    </tr>\n",
       "    <tr>\n",
       "      <th>1</th>\n",
       "      <td>“Höchst unerwünschte Ausländer”: The Fate of E...</td>\n",
       "      <td>https://doi.org/10.11649/sn.2012.017</td>\n",
       "      <td>[{'institutions': [{'lineage': ['https://opena...</td>\n",
       "      <td>[{'score': 0.818589, 'level': 3, 'id': 'https:...</td>\n",
       "      <td>2022</td>\n",
       "      <td>0</td>\n",
       "      <td>[]</td>\n",
       "      <td>{'oa_status': 'gold', 'is_oa': True, 'oa_url':...</td>\n",
       "      <td>Political science</td>\n",
       "      <td>DE</td>\n",
       "      <td>None</td>\n",
       "      <td>True</td>\n",
       "    </tr>\n",
       "    <tr>\n",
       "      <th>2</th>\n",
       "      <td>Piwo i gospoda w kulturze czeskiej – polskie w...</td>\n",
       "      <td>https://doi.org/10.11649/sn.2012.021</td>\n",
       "      <td>[{'institutions': [{'lineage': ['https://opena...</td>\n",
       "      <td>[{'score': 0.96974075, 'level': 2, 'id': 'http...</td>\n",
       "      <td>2022</td>\n",
       "      <td>0</td>\n",
       "      <td>[]</td>\n",
       "      <td>{'oa_status': 'gold', 'is_oa': True, 'oa_url':...</td>\n",
       "      <td>Sociology</td>\n",
       "      <td>PL</td>\n",
       "      <td>None</td>\n",
       "      <td>True</td>\n",
       "    </tr>\n",
       "    <tr>\n",
       "      <th>3</th>\n",
       "      <td>La edición y traducción de textos médicos medi...</td>\n",
       "      <td>https://doi.org/10.58576/cilengua.vi4.169</td>\n",
       "      <td>[{'institutions': [{'lineage': ['https://opena...</td>\n",
       "      <td>[{'score': 0.52048725, 'level': 0, 'id': 'http...</td>\n",
       "      <td>2023</td>\n",
       "      <td>0</td>\n",
       "      <td>[]</td>\n",
       "      <td>{'oa_status': 'bronze', 'is_oa': True, 'oa_url...</td>\n",
       "      <td>Art</td>\n",
       "      <td>ES</td>\n",
       "      <td>None</td>\n",
       "      <td>True</td>\n",
       "    </tr>\n",
       "    <tr>\n",
       "      <th>4</th>\n",
       "      <td>Funkcje wypowiedzi katechetycznej</td>\n",
       "      <td>https://doi.org/10.21852/sem.2009.26.5</td>\n",
       "      <td>[{'institutions': [], 'raw_affiliation_strings...</td>\n",
       "      <td>[{'score': 0.51094407, 'level': 1, 'id': 'http...</td>\n",
       "      <td>2023</td>\n",
       "      <td>0</td>\n",
       "      <td>[]</td>\n",
       "      <td>{'oa_status': 'closed', 'is_oa': True, 'oa_url...</td>\n",
       "      <td>Philosophy</td>\n",
       "      <td>GB</td>\n",
       "      <td>None</td>\n",
       "      <td>True</td>\n",
       "    </tr>\n",
       "    <tr>\n",
       "      <th>...</th>\n",
       "      <td>...</td>\n",
       "      <td>...</td>\n",
       "      <td>...</td>\n",
       "      <td>...</td>\n",
       "      <td>...</td>\n",
       "      <td>...</td>\n",
       "      <td>...</td>\n",
       "      <td>...</td>\n",
       "      <td>...</td>\n",
       "      <td>...</td>\n",
       "      <td>...</td>\n",
       "      <td>...</td>\n",
       "    </tr>\n",
       "    <tr>\n",
       "      <th>127354</th>\n",
       "      <td>Morfología histórica del verbo cocer. Homonimi...</td>\n",
       "      <td>https://doi.org/10.58576/cilengua.vi8.123</td>\n",
       "      <td>[{'institutions': [{'lineage': ['https://opena...</td>\n",
       "      <td>[{'score': 0.703625, 'level': 1, 'id': 'https:...</td>\n",
       "      <td>2023</td>\n",
       "      <td>0</td>\n",
       "      <td>[]</td>\n",
       "      <td>{'oa_status': 'bronze', 'is_oa': True, 'oa_url...</td>\n",
       "      <td>Philosophy</td>\n",
       "      <td>ES</td>\n",
       "      <td>None</td>\n",
       "      <td>True</td>\n",
       "    </tr>\n",
       "    <tr>\n",
       "      <th>127355</th>\n",
       "      <td>Nomenclature of Ion Channels (IUPHAR Scheme)</td>\n",
       "      <td>https://doi.org/10.1007/978-1-0716-1006-0_234</td>\n",
       "      <td>[{'institutions': [{'lineage': ['https://opena...</td>\n",
       "      <td>[{'score': 0.56369793, 'level': 3, 'id': 'http...</td>\n",
       "      <td>2022</td>\n",
       "      <td>0</td>\n",
       "      <td>[]</td>\n",
       "      <td>{'oa_status': 'closed', 'is_oa': False, 'oa_ur...</td>\n",
       "      <td>Computer science</td>\n",
       "      <td>GB</td>\n",
       "      <td>None</td>\n",
       "      <td>False</td>\n",
       "    </tr>\n",
       "    <tr>\n",
       "      <th>127356</th>\n",
       "      <td>ÜNİVERSİTELERLE SANAYİ KURULUŞLARI ARASINDA İŞ...</td>\n",
       "      <td>https://doi.org/10.17740/eas.soc.2015-v2-06</td>\n",
       "      <td>[{'institutions': [{'lineage': ['https://opena...</td>\n",
       "      <td>[{'score': 0.36918116, 'level': 1, 'id': 'http...</td>\n",
       "      <td>2022</td>\n",
       "      <td>0</td>\n",
       "      <td>[]</td>\n",
       "      <td>{'oa_status': 'bronze', 'is_oa': True, 'oa_url...</td>\n",
       "      <td>Physics</td>\n",
       "      <td>TR</td>\n",
       "      <td>None</td>\n",
       "      <td>True</td>\n",
       "    </tr>\n",
       "    <tr>\n",
       "      <th>127357</th>\n",
       "      <td>Las autoridades del Gran Diccionario de la Len...</td>\n",
       "      <td>https://doi.org/10.58576/cilengua.vi7.133</td>\n",
       "      <td>[{'institutions': [{'lineage': ['https://opena...</td>\n",
       "      <td>[{'score': 0.8275969999999999, 'level': 1, 'id...</td>\n",
       "      <td>2023</td>\n",
       "      <td>0</td>\n",
       "      <td>[]</td>\n",
       "      <td>{'oa_status': 'bronze', 'is_oa': True, 'oa_url...</td>\n",
       "      <td>Art</td>\n",
       "      <td>IL</td>\n",
       "      <td>None</td>\n",
       "      <td>True</td>\n",
       "    </tr>\n",
       "    <tr>\n",
       "      <th>127358</th>\n",
       "      <td>Public Management Reform</td>\n",
       "      <td>https://doi.org/10.4337/9781800375499.public.m...</td>\n",
       "      <td>[{'institutions': [{'lineage': ['https://opena...</td>\n",
       "      <td>[{'score': 0.7933603, 'level': 3, 'id': 'https...</td>\n",
       "      <td>2022</td>\n",
       "      <td>0</td>\n",
       "      <td>[]</td>\n",
       "      <td>{'oa_status': 'closed', 'is_oa': False, 'oa_ur...</td>\n",
       "      <td>Political science</td>\n",
       "      <td>GB</td>\n",
       "      <td>None</td>\n",
       "      <td>False</td>\n",
       "    </tr>\n",
       "  </tbody>\n",
       "</table>\n",
       "<p>127359 rows × 12 columns</p>\n",
       "</div>"
      ],
      "text/plain": [
       "                                                    title  \\\n",
       "0       O pojęciu godności narodowej w polskiej myśli ...   \n",
       "1       “Höchst unerwünschte Ausländer”: The Fate of E...   \n",
       "2       Piwo i gospoda w kulturze czeskiej – polskie w...   \n",
       "3       La edición y traducción de textos médicos medi...   \n",
       "4                       Funkcje wypowiedzi katechetycznej   \n",
       "...                                                   ...   \n",
       "127354  Morfología histórica del verbo cocer. Homonimi...   \n",
       "127355       Nomenclature of Ion Channels (IUPHAR Scheme)   \n",
       "127356  ÜNİVERSİTELERLE SANAYİ KURULUŞLARI ARASINDA İŞ...   \n",
       "127357  Las autoridades del Gran Diccionario de la Len...   \n",
       "127358                           Public Management Reform   \n",
       "\n",
       "                                                      doi  \\\n",
       "0                    https://doi.org/10.11649/sn.2012.007   \n",
       "1                    https://doi.org/10.11649/sn.2012.017   \n",
       "2                    https://doi.org/10.11649/sn.2012.021   \n",
       "3               https://doi.org/10.58576/cilengua.vi4.169   \n",
       "4                  https://doi.org/10.21852/sem.2009.26.5   \n",
       "...                                                   ...   \n",
       "127354          https://doi.org/10.58576/cilengua.vi8.123   \n",
       "127355      https://doi.org/10.1007/978-1-0716-1006-0_234   \n",
       "127356        https://doi.org/10.17740/eas.soc.2015-v2-06   \n",
       "127357          https://doi.org/10.58576/cilengua.vi7.133   \n",
       "127358  https://doi.org/10.4337/9781800375499.public.m...   \n",
       "\n",
       "                                              authorships  \\\n",
       "0       [{'institutions': [{'lineage': ['https://opena...   \n",
       "1       [{'institutions': [{'lineage': ['https://opena...   \n",
       "2       [{'institutions': [{'lineage': ['https://opena...   \n",
       "3       [{'institutions': [{'lineage': ['https://opena...   \n",
       "4       [{'institutions': [], 'raw_affiliation_strings...   \n",
       "...                                                   ...   \n",
       "127354  [{'institutions': [{'lineage': ['https://opena...   \n",
       "127355  [{'institutions': [{'lineage': ['https://opena...   \n",
       "127356  [{'institutions': [{'lineage': ['https://opena...   \n",
       "127357  [{'institutions': [{'lineage': ['https://opena...   \n",
       "127358  [{'institutions': [{'lineage': ['https://opena...   \n",
       "\n",
       "                                                 concepts  publication_year  \\\n",
       "0       [{'score': 0.94091177, 'level': 2, 'id': 'http...              2022   \n",
       "1       [{'score': 0.818589, 'level': 3, 'id': 'https:...              2022   \n",
       "2       [{'score': 0.96974075, 'level': 2, 'id': 'http...              2022   \n",
       "3       [{'score': 0.52048725, 'level': 0, 'id': 'http...              2023   \n",
       "4       [{'score': 0.51094407, 'level': 1, 'id': 'http...              2023   \n",
       "...                                                   ...               ...   \n",
       "127354  [{'score': 0.703625, 'level': 1, 'id': 'https:...              2023   \n",
       "127355  [{'score': 0.56369793, 'level': 3, 'id': 'http...              2022   \n",
       "127356  [{'score': 0.36918116, 'level': 1, 'id': 'http...              2022   \n",
       "127357  [{'score': 0.8275969999999999, 'level': 1, 'id...              2023   \n",
       "127358  [{'score': 0.7933603, 'level': 3, 'id': 'https...              2022   \n",
       "\n",
       "        cited_by_count grants  \\\n",
       "0                    0     []   \n",
       "1                    0     []   \n",
       "2                    0     []   \n",
       "3                    0     []   \n",
       "4                    0     []   \n",
       "...                ...    ...   \n",
       "127354               0     []   \n",
       "127355               0     []   \n",
       "127356               0     []   \n",
       "127357               0     []   \n",
       "127358               0     []   \n",
       "\n",
       "                                              open_access        top_concept  \\\n",
       "0       {'oa_status': 'gold', 'is_oa': True, 'oa_url':...          Sociology   \n",
       "1       {'oa_status': 'gold', 'is_oa': True, 'oa_url':...  Political science   \n",
       "2       {'oa_status': 'gold', 'is_oa': True, 'oa_url':...          Sociology   \n",
       "3       {'oa_status': 'bronze', 'is_oa': True, 'oa_url...                Art   \n",
       "4       {'oa_status': 'closed', 'is_oa': True, 'oa_url...         Philosophy   \n",
       "...                                                   ...                ...   \n",
       "127354  {'oa_status': 'bronze', 'is_oa': True, 'oa_url...         Philosophy   \n",
       "127355  {'oa_status': 'closed', 'is_oa': False, 'oa_ur...   Computer science   \n",
       "127356  {'oa_status': 'bronze', 'is_oa': True, 'oa_url...            Physics   \n",
       "127357  {'oa_status': 'bronze', 'is_oa': True, 'oa_url...                Art   \n",
       "127358  {'oa_status': 'closed', 'is_oa': False, 'oa_ur...  Political science   \n",
       "\n",
       "       extracted_countries top_funder  is_oa  \n",
       "0                       PL       None   True  \n",
       "1                       DE       None   True  \n",
       "2                       PL       None   True  \n",
       "3                       ES       None   True  \n",
       "4                       GB       None   True  \n",
       "...                    ...        ...    ...  \n",
       "127354                  ES       None   True  \n",
       "127355                  GB       None  False  \n",
       "127356                  TR       None   True  \n",
       "127357                  IL       None   True  \n",
       "127358                  GB       None  False  \n",
       "\n",
       "[127359 rows x 12 columns]"
      ]
     },
     "metadata": {},
     "output_type": "display_data"
    }
   ],
   "source": [
    "openalex_df_list = []\n",
    "\n",
    "for work_path in works_parts:\n",
    "    display(work_path)\n",
    "    openalex_chunks = pd.read_json(\n",
    "        OPENALEX_PATH+work_path,\n",
    "        lines=True,\n",
    "        chunksize=60000,\n",
    "        compression='gzip',\n",
    "    )\n",
    "\n",
    "    for df in openalex_chunks:\n",
    "        df = df[df['publication_year'] >= 2022]\n",
    "        df = df[df['doi'].notna()]\n",
    "        df = df[[\n",
    "            'title', 'doi', 'authorships', 'concepts', 'publication_year',\n",
    "            'cited_by_count', 'grants', 'open_access'\n",
    "        ]]\n",
    "        if not df.empty:\n",
    "            df['top_concept'] = df.apply(extract_top_concept, axis=1)\n",
    "            df['extracted_countries'] = df.apply(extract_countries, axis=1)\n",
    "            df['top_funder'] = df.apply(extract_grants, axis=1)\n",
    "            df['is_oa'] = df.apply(extract_is_oa, axis=1)\n",
    "            df = df[df['extracted_countries'].notna()]\n",
    "            openalex_df_list.append(df)\n",
    "\n",
    "\n",
    "openalex_df = pd.concat(openalex_df_list, ignore_index=True)\n",
    "display(openalex_df)"
   ]
  },
  {
   "cell_type": "markdown",
   "id": "55bc18f3-5e3d-4f25-ad9c-e0a83d0a14ae",
   "metadata": {},
   "source": [
    "Remove problematic columns `authorships` and `concepts` (list type) then save to sqlite db as `openalex` table"
   ]
  },
  {
   "cell_type": "code",
   "execution_count": 18,
   "id": "42c99452-a101-4f6d-baa4-163c7528c6e5",
   "metadata": {
    "execution": {
     "iopub.execute_input": "2023-11-07T19:10:30.860392Z",
     "iopub.status.busy": "2023-11-07T19:10:30.859896Z",
     "iopub.status.idle": "2023-11-07T19:10:30.928937Z",
     "shell.execute_reply": "2023-11-07T19:10:30.927786Z",
     "shell.execute_reply.started": "2023-11-07T19:10:30.860352Z"
    },
    "tags": []
   },
   "outputs": [],
   "source": [
    "openalex_df = openalex_df.drop(\n",
    "    columns=[\n",
    "        'authorships',\n",
    "        'concepts',\n",
    "        'grants',\n",
    "        'open_access'\n",
    "    ]\n",
    ")"
   ]
  },
  {
   "cell_type": "code",
   "execution_count": 19,
   "id": "aeb91685-8fe2-4809-9f4d-a5ceca12ee89",
   "metadata": {
    "execution": {
     "iopub.execute_input": "2023-11-07T19:10:30.930476Z",
     "iopub.status.busy": "2023-11-07T19:10:30.930199Z",
     "iopub.status.idle": "2023-11-07T19:10:33.305049Z",
     "shell.execute_reply": "2023-11-07T19:10:33.303940Z",
     "shell.execute_reply.started": "2023-11-07T19:10:30.930447Z"
    },
    "tags": []
   },
   "outputs": [
    {
     "data": {
      "text/plain": [
       "127359"
      ]
     },
     "execution_count": 19,
     "metadata": {},
     "output_type": "execute_result"
    }
   ],
   "source": [
    "openalex_df.to_sql('openalex', db_conn, if_exists='replace', index=False)"
   ]
  },
  {
   "cell_type": "markdown",
   "id": "0ca681f6-5ebb-47c5-b302-c25ea1e0cb64",
   "metadata": {},
   "source": [
    "[ref]: #top\n",
    "[top][ref]"
   ]
  },
  {
   "cell_type": "markdown",
   "id": "9b789a78-cb3d-40bb-871b-8b96541a3bea",
   "metadata": {},
   "source": [
    "<a name=\"meth_3\"></a>\n",
    "### Prepare ArXiv Dataset (~5mins)"
   ]
  },
  {
   "cell_type": "markdown",
   "id": "2526cc21-aef0-45a7-bf92-2ce728b5c9c7",
   "metadata": {},
   "source": [
    "Helper functions for ArXiv Dataset Extraction:"
   ]
  },
  {
   "cell_type": "code",
   "execution_count": 20,
   "id": "6ba91df2-e3bf-421e-989d-4c7eae44495e",
   "metadata": {
    "execution": {
     "iopub.execute_input": "2023-11-07T19:10:33.307220Z",
     "iopub.status.busy": "2023-11-07T19:10:33.306758Z",
     "iopub.status.idle": "2023-11-07T19:10:33.313156Z",
     "shell.execute_reply": "2023-11-07T19:10:33.312294Z",
     "shell.execute_reply.started": "2023-11-07T19:10:33.307175Z"
    },
    "tags": []
   },
   "outputs": [],
   "source": [
    "def extract_created_date(versions):\n",
    "    \"\"\"Transform `versions` column into `v1 date` column.\n",
    "    \"\"\"\n",
    "    for version in versions:\n",
    "        if version['version'] == 'v1':\n",
    "            return version['created']\n",
    "    return None"
   ]
  },
  {
   "cell_type": "markdown",
   "id": "93fa9e7a-c164-4d98-a3d9-18b61c6b1e5f",
   "metadata": {},
   "source": [
    "Extract ArXiv Dataset to Pandas Dataframe\n",
    "- Load to dataframe using `pd.read_json` leveraging `chunksize` param\n",
    "- `v1 date` column created based on transformation done on `versions` column\n",
    "- `doi` column transformed to match the format seen in OpenAlex (prefixing `https://doi.org/`), this will be used as the join key\n",
    "- Filter df where `v1 date` is from 2022-Present\n",
    "- `id` column renamed to `arxiv_id`"
   ]
  },
  {
   "cell_type": "code",
   "execution_count": 21,
   "id": "ba9cb07b-912a-41dc-9b05-f53bf1f29f4e",
   "metadata": {
    "execution": {
     "iopub.execute_input": "2023-11-07T19:10:33.314469Z",
     "iopub.status.busy": "2023-11-07T19:10:33.314132Z",
     "iopub.status.idle": "2023-11-07T19:14:57.006803Z",
     "shell.execute_reply": "2023-11-07T19:14:57.005656Z",
     "shell.execute_reply.started": "2023-11-07T19:10:33.314443Z"
    },
    "tags": []
   },
   "outputs": [
    {
     "data": {
      "text/html": [
       "<div>\n",
       "<style scoped>\n",
       "    .dataframe tbody tr th:only-of-type {\n",
       "        vertical-align: middle;\n",
       "    }\n",
       "\n",
       "    .dataframe tbody tr th {\n",
       "        vertical-align: top;\n",
       "    }\n",
       "\n",
       "    .dataframe thead th {\n",
       "        text-align: right;\n",
       "    }\n",
       "</style>\n",
       "<table border=\"1\" class=\"dataframe\">\n",
       "  <thead>\n",
       "    <tr style=\"text-align: right;\">\n",
       "      <th></th>\n",
       "      <th>arxiv_id</th>\n",
       "      <th>submitter</th>\n",
       "      <th>authors</th>\n",
       "      <th>title</th>\n",
       "      <th>comments</th>\n",
       "      <th>journal-ref</th>\n",
       "      <th>doi</th>\n",
       "      <th>report-no</th>\n",
       "      <th>categories</th>\n",
       "      <th>license</th>\n",
       "      <th>abstract</th>\n",
       "      <th>versions</th>\n",
       "      <th>update_date</th>\n",
       "      <th>authors_parsed</th>\n",
       "      <th>v1 date</th>\n",
       "    </tr>\n",
       "  </thead>\n",
       "  <tbody>\n",
       "    <tr>\n",
       "      <th>0</th>\n",
       "      <td>2201.00079</td>\n",
       "      <td>Seong-Yeop Jeong</td>\n",
       "      <td>Seong-Yeop Jeong, Daniel Verscharen, Christian...</td>\n",
       "      <td>The Kinetic Expansion of Solar-Wind Electrons:...</td>\n",
       "      <td>Accepted in ApJ</td>\n",
       "      <td>None</td>\n",
       "      <td>https://doi.org/10.3847/1538-4357/ac4805</td>\n",
       "      <td>None</td>\n",
       "      <td>physics.space-ph</td>\n",
       "      <td>http://creativecommons.org/licenses/by/4.0/</td>\n",
       "      <td>We propose a transport theory for the kineti...</td>\n",
       "      <td>[{'version': 'v1', 'created': 'Sat, 1 Jan 2022...</td>\n",
       "      <td>2022-03-30</td>\n",
       "      <td>[[Jeong, Seong-Yeop, ], [Verscharen, Daniel, ]...</td>\n",
       "      <td>2022-01-01 00:14:18+00:00</td>\n",
       "    </tr>\n",
       "    <tr>\n",
       "      <th>1</th>\n",
       "      <td>2201.00085</td>\n",
       "      <td>Fei Shi</td>\n",
       "      <td>Fei Shi, Mao-Sheng Li, Lin Chen, and Xiande Zhang</td>\n",
       "      <td>Strong quantum nonlocality for unextendible pr...</td>\n",
       "      <td>None</td>\n",
       "      <td>Journal of Physics A: Mathematical and Theoret...</td>\n",
       "      <td>https://doi.org/10.1088/1751-8121/ac3bea</td>\n",
       "      <td>None</td>\n",
       "      <td>quant-ph</td>\n",
       "      <td>http://creativecommons.org/licenses/by/4.0/</td>\n",
       "      <td>A set of multipartite orthogonal product sta...</td>\n",
       "      <td>[{'version': 'v1', 'created': 'Sat, 1 Jan 2022...</td>\n",
       "      <td>2022-01-04</td>\n",
       "      <td>[[Shi, Fei, ], [Li, Mao-Sheng, ], [Chen, Lin, ...</td>\n",
       "      <td>2022-01-01 01:18:37+00:00</td>\n",
       "    </tr>\n",
       "    <tr>\n",
       "      <th>2</th>\n",
       "      <td>2201.00091</td>\n",
       "      <td>Tanay Roy</td>\n",
       "      <td>Tanay Roy, Liang Jiang, David I. Schuster</td>\n",
       "      <td>Deterministic Grover search with a restricted ...</td>\n",
       "      <td>6 pages, 4 figures</td>\n",
       "      <td>None</td>\n",
       "      <td>https://doi.org/10.1103/PhysRevResearch.4.L022013</td>\n",
       "      <td>None</td>\n",
       "      <td>quant-ph</td>\n",
       "      <td>http://creativecommons.org/licenses/by/4.0/</td>\n",
       "      <td>Grover's quantum search algorithm provides a...</td>\n",
       "      <td>[{'version': 'v1', 'created': 'Sat, 1 Jan 2022...</td>\n",
       "      <td>2022-11-15</td>\n",
       "      <td>[[Roy, Tanay, ], [Jiang, Liang, ], [Schuster, ...</td>\n",
       "      <td>2022-01-01 02:04:11+00:00</td>\n",
       "    </tr>\n",
       "    <tr>\n",
       "      <th>3</th>\n",
       "      <td>2201.00093</td>\n",
       "      <td>Alex Sheng</td>\n",
       "      <td>Alex Sheng, Derek He</td>\n",
       "      <td>Distributed Evolution Strategies Using TPUs fo...</td>\n",
       "      <td>Published in Proceedings of the 2020 IEEE Symp...</td>\n",
       "      <td>2020 IEEE Symposium Series on Computational In...</td>\n",
       "      <td>https://doi.org/10.1109/SSCI47803.2020.9308334</td>\n",
       "      <td>None</td>\n",
       "      <td>cs.NE cs.AI cs.LG</td>\n",
       "      <td>http://arxiv.org/licenses/nonexclusive-distrib...</td>\n",
       "      <td>Meta-learning traditionally relies on backpr...</td>\n",
       "      <td>[{'version': 'v1', 'created': 'Sat, 1 Jan 2022...</td>\n",
       "      <td>2022-01-04</td>\n",
       "      <td>[[Sheng, Alex, ], [He, Derek, ]]</td>\n",
       "      <td>2022-01-01 02:14:02+00:00</td>\n",
       "    </tr>\n",
       "    <tr>\n",
       "      <th>4</th>\n",
       "      <td>2201.001</td>\n",
       "      <td>Xiaoqiang Wang</td>\n",
       "      <td>Xiaoqiang Wang, Lei Zhu, Siliang Tang, Huazhu ...</td>\n",
       "      <td>Boosting RGB-D Saliency Detection by Leveragin...</td>\n",
       "      <td>Accepted by IEEE TIP</td>\n",
       "      <td>None</td>\n",
       "      <td>https://doi.org/10.1109/TIP.2021.3139232</td>\n",
       "      <td>None</td>\n",
       "      <td>eess.IV cs.CV</td>\n",
       "      <td>http://arxiv.org/licenses/nonexclusive-distrib...</td>\n",
       "      <td>Training deep models for RGB-D salient objec...</td>\n",
       "      <td>[{'version': 'v1', 'created': 'Sat, 1 Jan 2022...</td>\n",
       "      <td>2022-01-04</td>\n",
       "      <td>[[Wang, Xiaoqiang, ], [Zhu, Lei, ], [Tang, Sil...</td>\n",
       "      <td>2022-01-01 03:02:27+00:00</td>\n",
       "    </tr>\n",
       "    <tr>\n",
       "      <th>...</th>\n",
       "      <td>...</td>\n",
       "      <td>...</td>\n",
       "      <td>...</td>\n",
       "      <td>...</td>\n",
       "      <td>...</td>\n",
       "      <td>...</td>\n",
       "      <td>...</td>\n",
       "      <td>...</td>\n",
       "      <td>...</td>\n",
       "      <td>...</td>\n",
       "      <td>...</td>\n",
       "      <td>...</td>\n",
       "      <td>...</td>\n",
       "      <td>...</td>\n",
       "      <td>...</td>\n",
       "    </tr>\n",
       "    <tr>\n",
       "      <th>83128</th>\n",
       "      <td>2310.03663</td>\n",
       "      <td>Pallav Bera</td>\n",
       "      <td>Pallav Kumar Bera, Vajendra Kumar, Samita Rani...</td>\n",
       "      <td>Autoregressive Coefficients based Intelligent ...</td>\n",
       "      <td>None</td>\n",
       "      <td>IEEE Transactions on Power Delivery, 2023</td>\n",
       "      <td>https://doi.org/10.1109/TPWRD.2023.3321844</td>\n",
       "      <td>None</td>\n",
       "      <td>eess.SP</td>\n",
       "      <td>http://creativecommons.org/licenses/by/4.0/</td>\n",
       "      <td>Protective relays can mal-operate for transm...</td>\n",
       "      <td>[{'version': 'v1', 'created': 'Thu, 5 Oct 2023...</td>\n",
       "      <td>2023-10-06</td>\n",
       "      <td>[[Bera, Pallav Kumar, ], [Kumar, Vajendra, ], ...</td>\n",
       "      <td>2023-10-05 16:39:51+00:00</td>\n",
       "    </tr>\n",
       "    <tr>\n",
       "      <th>83129</th>\n",
       "      <td>2310.03670</td>\n",
       "      <td>Yang Liu</td>\n",
       "      <td>Yang Liu, Chen Chen, Can Wang, Xulin King, Men...</td>\n",
       "      <td>Regress Before Construct: Regress Autoencoder ...</td>\n",
       "      <td>None</td>\n",
       "      <td>In Proceedings of the 31st ACM International C...</td>\n",
       "      <td>https://doi.org/10.1145/3581783.3612106</td>\n",
       "      <td>None</td>\n",
       "      <td>cs.CV</td>\n",
       "      <td>http://arxiv.org/licenses/nonexclusive-distrib...</td>\n",
       "      <td>Masked Autoencoders (MAE) have demonstrated ...</td>\n",
       "      <td>[{'version': 'v1', 'created': 'Mon, 25 Sep 202...</td>\n",
       "      <td>2023-10-06</td>\n",
       "      <td>[[Liu, Yang, ], [Chen, Chen, ], [Wang, Can, ],...</td>\n",
       "      <td>2023-09-25 17:23:33+00:00</td>\n",
       "    </tr>\n",
       "    <tr>\n",
       "      <th>83130</th>\n",
       "      <td>2310.03688</td>\n",
       "      <td>Boaz Rafaely</td>\n",
       "      <td>Boaz Rafaely and Koby Alhaiany</td>\n",
       "      <td>Speaker localization using direct path dominan...</td>\n",
       "      <td>None</td>\n",
       "      <td>Signal Processing, vol. 143, pp. 42 - 47, 2018</td>\n",
       "      <td>https://doi.org/10.1016/j.sigpro.2017.08.010</td>\n",
       "      <td>None</td>\n",
       "      <td>eess.AS cs.SD</td>\n",
       "      <td>http://creativecommons.org/licenses/by/4.0/</td>\n",
       "      <td>Estimation of the direction-of-arrival (DoA)...</td>\n",
       "      <td>[{'version': 'v1', 'created': 'Thu, 5 Oct 2023...</td>\n",
       "      <td>2023-10-06</td>\n",
       "      <td>[[Rafaely, Boaz, ], [Alhaiany, Koby, ]]</td>\n",
       "      <td>2023-10-05 17:09:50+00:00</td>\n",
       "    </tr>\n",
       "    <tr>\n",
       "      <th>83131</th>\n",
       "      <td>2310.03700</td>\n",
       "      <td>Evgeny Stemasov</td>\n",
       "      <td>Evgeny Stemasov, Jessica Hohn, Maurice Cordts,...</td>\n",
       "      <td>BrickStARt: Enabling In-situ Design and Tangib...</td>\n",
       "      <td>23 pages, 13 figures, to appear in: Proceeding...</td>\n",
       "      <td>Proceedings of the ACM on Human-Computer Inter...</td>\n",
       "      <td>https://doi.org/10.1145/3626465</td>\n",
       "      <td>None</td>\n",
       "      <td>cs.HC</td>\n",
       "      <td>http://creativecommons.org/licenses/by/4.0/</td>\n",
       "      <td>3D printers enable end-users to design and f...</td>\n",
       "      <td>[{'version': 'v1', 'created': 'Thu, 5 Oct 2023...</td>\n",
       "      <td>2023-10-06</td>\n",
       "      <td>[[Stemasov, Evgeny, ], [Hohn, Jessica, ], [Cor...</td>\n",
       "      <td>2023-10-05 17:18:13+00:00</td>\n",
       "    </tr>\n",
       "    <tr>\n",
       "      <th>83132</th>\n",
       "      <td>2310.03712</td>\n",
       "      <td>J. Daniel Gezelter</td>\n",
       "      <td>Anderson D. S. Duraes and J. Daniel Gezelter</td>\n",
       "      <td>A Theory of Pitch for the Hydrodynamic Propert...</td>\n",
       "      <td>None</td>\n",
       "      <td>J. Chem. Phys. 159, 134105 (2023)</td>\n",
       "      <td>https://doi.org/10.1063/5.0152546</td>\n",
       "      <td>None</td>\n",
       "      <td>physics.chem-ph physics.flu-dyn</td>\n",
       "      <td>http://arxiv.org/licenses/nonexclusive-distrib...</td>\n",
       "      <td>We present a theory for pitch, a matrix prop...</td>\n",
       "      <td>[{'version': 'v1', 'created': 'Thu, 5 Oct 2023...</td>\n",
       "      <td>2023-10-06</td>\n",
       "      <td>[[Duraes, Anderson D. S., ], [Gezelter, J. Dan...</td>\n",
       "      <td>2023-10-05 17:36:59+00:00</td>\n",
       "    </tr>\n",
       "  </tbody>\n",
       "</table>\n",
       "<p>83133 rows × 15 columns</p>\n",
       "</div>"
      ],
      "text/plain": [
       "         arxiv_id           submitter  \\\n",
       "0      2201.00079    Seong-Yeop Jeong   \n",
       "1      2201.00085             Fei Shi   \n",
       "2      2201.00091           Tanay Roy   \n",
       "3      2201.00093          Alex Sheng   \n",
       "4        2201.001      Xiaoqiang Wang   \n",
       "...           ...                 ...   \n",
       "83128  2310.03663         Pallav Bera   \n",
       "83129  2310.03670            Yang Liu   \n",
       "83130  2310.03688        Boaz Rafaely   \n",
       "83131  2310.03700     Evgeny Stemasov   \n",
       "83132  2310.03712  J. Daniel Gezelter   \n",
       "\n",
       "                                                 authors  \\\n",
       "0      Seong-Yeop Jeong, Daniel Verscharen, Christian...   \n",
       "1      Fei Shi, Mao-Sheng Li, Lin Chen, and Xiande Zhang   \n",
       "2              Tanay Roy, Liang Jiang, David I. Schuster   \n",
       "3                                   Alex Sheng, Derek He   \n",
       "4      Xiaoqiang Wang, Lei Zhu, Siliang Tang, Huazhu ...   \n",
       "...                                                  ...   \n",
       "83128  Pallav Kumar Bera, Vajendra Kumar, Samita Rani...   \n",
       "83129  Yang Liu, Chen Chen, Can Wang, Xulin King, Men...   \n",
       "83130                     Boaz Rafaely and Koby Alhaiany   \n",
       "83131  Evgeny Stemasov, Jessica Hohn, Maurice Cordts,...   \n",
       "83132       Anderson D. S. Duraes and J. Daniel Gezelter   \n",
       "\n",
       "                                                   title  \\\n",
       "0      The Kinetic Expansion of Solar-Wind Electrons:...   \n",
       "1      Strong quantum nonlocality for unextendible pr...   \n",
       "2      Deterministic Grover search with a restricted ...   \n",
       "3      Distributed Evolution Strategies Using TPUs fo...   \n",
       "4      Boosting RGB-D Saliency Detection by Leveragin...   \n",
       "...                                                  ...   \n",
       "83128  Autoregressive Coefficients based Intelligent ...   \n",
       "83129  Regress Before Construct: Regress Autoencoder ...   \n",
       "83130  Speaker localization using direct path dominan...   \n",
       "83131  BrickStARt: Enabling In-situ Design and Tangib...   \n",
       "83132  A Theory of Pitch for the Hydrodynamic Propert...   \n",
       "\n",
       "                                                comments  \\\n",
       "0                                        Accepted in ApJ   \n",
       "1                                                   None   \n",
       "2                                     6 pages, 4 figures   \n",
       "3      Published in Proceedings of the 2020 IEEE Symp...   \n",
       "4                                   Accepted by IEEE TIP   \n",
       "...                                                  ...   \n",
       "83128                                               None   \n",
       "83129                                               None   \n",
       "83130                                               None   \n",
       "83131  23 pages, 13 figures, to appear in: Proceeding...   \n",
       "83132                                               None   \n",
       "\n",
       "                                             journal-ref  \\\n",
       "0                                                   None   \n",
       "1      Journal of Physics A: Mathematical and Theoret...   \n",
       "2                                                   None   \n",
       "3      2020 IEEE Symposium Series on Computational In...   \n",
       "4                                                   None   \n",
       "...                                                  ...   \n",
       "83128          IEEE Transactions on Power Delivery, 2023   \n",
       "83129  In Proceedings of the 31st ACM International C...   \n",
       "83130     Signal Processing, vol. 143, pp. 42 - 47, 2018   \n",
       "83131  Proceedings of the ACM on Human-Computer Inter...   \n",
       "83132                  J. Chem. Phys. 159, 134105 (2023)   \n",
       "\n",
       "                                                     doi report-no  \\\n",
       "0               https://doi.org/10.3847/1538-4357/ac4805      None   \n",
       "1               https://doi.org/10.1088/1751-8121/ac3bea      None   \n",
       "2      https://doi.org/10.1103/PhysRevResearch.4.L022013      None   \n",
       "3         https://doi.org/10.1109/SSCI47803.2020.9308334      None   \n",
       "4               https://doi.org/10.1109/TIP.2021.3139232      None   \n",
       "...                                                  ...       ...   \n",
       "83128         https://doi.org/10.1109/TPWRD.2023.3321844      None   \n",
       "83129            https://doi.org/10.1145/3581783.3612106      None   \n",
       "83130       https://doi.org/10.1016/j.sigpro.2017.08.010      None   \n",
       "83131                    https://doi.org/10.1145/3626465      None   \n",
       "83132                  https://doi.org/10.1063/5.0152546      None   \n",
       "\n",
       "                            categories  \\\n",
       "0                     physics.space-ph   \n",
       "1                             quant-ph   \n",
       "2                             quant-ph   \n",
       "3                    cs.NE cs.AI cs.LG   \n",
       "4                        eess.IV cs.CV   \n",
       "...                                ...   \n",
       "83128                          eess.SP   \n",
       "83129                            cs.CV   \n",
       "83130                    eess.AS cs.SD   \n",
       "83131                            cs.HC   \n",
       "83132  physics.chem-ph physics.flu-dyn   \n",
       "\n",
       "                                                 license  \\\n",
       "0            http://creativecommons.org/licenses/by/4.0/   \n",
       "1            http://creativecommons.org/licenses/by/4.0/   \n",
       "2            http://creativecommons.org/licenses/by/4.0/   \n",
       "3      http://arxiv.org/licenses/nonexclusive-distrib...   \n",
       "4      http://arxiv.org/licenses/nonexclusive-distrib...   \n",
       "...                                                  ...   \n",
       "83128        http://creativecommons.org/licenses/by/4.0/   \n",
       "83129  http://arxiv.org/licenses/nonexclusive-distrib...   \n",
       "83130        http://creativecommons.org/licenses/by/4.0/   \n",
       "83131        http://creativecommons.org/licenses/by/4.0/   \n",
       "83132  http://arxiv.org/licenses/nonexclusive-distrib...   \n",
       "\n",
       "                                                abstract  \\\n",
       "0        We propose a transport theory for the kineti...   \n",
       "1        A set of multipartite orthogonal product sta...   \n",
       "2        Grover's quantum search algorithm provides a...   \n",
       "3        Meta-learning traditionally relies on backpr...   \n",
       "4        Training deep models for RGB-D salient objec...   \n",
       "...                                                  ...   \n",
       "83128    Protective relays can mal-operate for transm...   \n",
       "83129    Masked Autoencoders (MAE) have demonstrated ...   \n",
       "83130    Estimation of the direction-of-arrival (DoA)...   \n",
       "83131    3D printers enable end-users to design and f...   \n",
       "83132    We present a theory for pitch, a matrix prop...   \n",
       "\n",
       "                                                versions update_date  \\\n",
       "0      [{'version': 'v1', 'created': 'Sat, 1 Jan 2022...  2022-03-30   \n",
       "1      [{'version': 'v1', 'created': 'Sat, 1 Jan 2022...  2022-01-04   \n",
       "2      [{'version': 'v1', 'created': 'Sat, 1 Jan 2022...  2022-11-15   \n",
       "3      [{'version': 'v1', 'created': 'Sat, 1 Jan 2022...  2022-01-04   \n",
       "4      [{'version': 'v1', 'created': 'Sat, 1 Jan 2022...  2022-01-04   \n",
       "...                                                  ...         ...   \n",
       "83128  [{'version': 'v1', 'created': 'Thu, 5 Oct 2023...  2023-10-06   \n",
       "83129  [{'version': 'v1', 'created': 'Mon, 25 Sep 202...  2023-10-06   \n",
       "83130  [{'version': 'v1', 'created': 'Thu, 5 Oct 2023...  2023-10-06   \n",
       "83131  [{'version': 'v1', 'created': 'Thu, 5 Oct 2023...  2023-10-06   \n",
       "83132  [{'version': 'v1', 'created': 'Thu, 5 Oct 2023...  2023-10-06   \n",
       "\n",
       "                                          authors_parsed  \\\n",
       "0      [[Jeong, Seong-Yeop, ], [Verscharen, Daniel, ]...   \n",
       "1      [[Shi, Fei, ], [Li, Mao-Sheng, ], [Chen, Lin, ...   \n",
       "2      [[Roy, Tanay, ], [Jiang, Liang, ], [Schuster, ...   \n",
       "3                       [[Sheng, Alex, ], [He, Derek, ]]   \n",
       "4      [[Wang, Xiaoqiang, ], [Zhu, Lei, ], [Tang, Sil...   \n",
       "...                                                  ...   \n",
       "83128  [[Bera, Pallav Kumar, ], [Kumar, Vajendra, ], ...   \n",
       "83129  [[Liu, Yang, ], [Chen, Chen, ], [Wang, Can, ],...   \n",
       "83130            [[Rafaely, Boaz, ], [Alhaiany, Koby, ]]   \n",
       "83131  [[Stemasov, Evgeny, ], [Hohn, Jessica, ], [Cor...   \n",
       "83132  [[Duraes, Anderson D. S., ], [Gezelter, J. Dan...   \n",
       "\n",
       "                        v1 date  \n",
       "0     2022-01-01 00:14:18+00:00  \n",
       "1     2022-01-01 01:18:37+00:00  \n",
       "2     2022-01-01 02:04:11+00:00  \n",
       "3     2022-01-01 02:14:02+00:00  \n",
       "4     2022-01-01 03:02:27+00:00  \n",
       "...                         ...  \n",
       "83128 2023-10-05 16:39:51+00:00  \n",
       "83129 2023-09-25 17:23:33+00:00  \n",
       "83130 2023-10-05 17:09:50+00:00  \n",
       "83131 2023-10-05 17:18:13+00:00  \n",
       "83132 2023-10-05 17:36:59+00:00  \n",
       "\n",
       "[83133 rows x 15 columns]"
      ]
     },
     "execution_count": 21,
     "metadata": {},
     "output_type": "execute_result"
    }
   ],
   "source": [
    "# 24 chunks of 100k\n",
    "arxiv_chunks = pd.read_json(\n",
    "    ARXIV_DATASET,\n",
    "    lines=True,\n",
    "    chunksize=100000\n",
    ")\n",
    "\n",
    "arxiv_df_list = []\n",
    "\n",
    "for df in arxiv_chunks:\n",
    "    df = df[df['doi'].notna()]\n",
    "    df['v1 date'] = df['versions'].apply(extract_created_date)\n",
    "    df['v1 date'] = pd.to_datetime(df['v1 date'], format='mixed')\n",
    "    df['doi'] = \"https://doi.org/\"+df['doi']\n",
    "    df = df[df['v1 date'] >= '2022-01-01']\n",
    "    arxiv_df_list.append(df)\n",
    "\n",
    "arxiv_df = pd.concat(arxiv_df_list, ignore_index=True)\n",
    "rename_dict = {\n",
    "    'id': 'arxiv_id',\n",
    "}\n",
    "arxiv_df.rename(\n",
    "    columns=rename_dict,\n",
    "    inplace=True,\n",
    ")\n",
    "arxiv_df"
   ]
  },
  {
   "cell_type": "markdown",
   "id": "d79578bb-94e1-40f5-a621-632d7d05a620",
   "metadata": {},
   "source": [
    "Remove problematic columns `versions` and `authors_parsed` (list type) then save to sqlite db as `arxiv` table"
   ]
  },
  {
   "cell_type": "code",
   "execution_count": 22,
   "id": "8b5ea1ca-8b2e-4209-8003-3da970032653",
   "metadata": {
    "execution": {
     "iopub.execute_input": "2023-11-07T19:14:57.012974Z",
     "iopub.status.busy": "2023-11-07T19:14:57.012708Z",
     "iopub.status.idle": "2023-11-07T19:14:57.047791Z",
     "shell.execute_reply": "2023-11-07T19:14:57.046952Z",
     "shell.execute_reply.started": "2023-11-07T19:14:57.012952Z"
    },
    "tags": []
   },
   "outputs": [],
   "source": [
    "arxiv_df = arxiv_df.drop(columns=['versions', 'authors_parsed'])"
   ]
  },
  {
   "cell_type": "code",
   "execution_count": 23,
   "id": "dc759798-d208-470a-a780-ef93b7cb6ac0",
   "metadata": {
    "execution": {
     "iopub.execute_input": "2023-11-07T19:14:57.049062Z",
     "iopub.status.busy": "2023-11-07T19:14:57.048797Z",
     "iopub.status.idle": "2023-11-07T19:15:09.831901Z",
     "shell.execute_reply": "2023-11-07T19:15:09.830241Z",
     "shell.execute_reply.started": "2023-11-07T19:14:57.049039Z"
    },
    "tags": []
   },
   "outputs": [
    {
     "data": {
      "text/plain": [
       "83133"
      ]
     },
     "execution_count": 23,
     "metadata": {},
     "output_type": "execute_result"
    }
   ],
   "source": [
    "arxiv_df.to_sql('arxiv', db_conn, if_exists='replace', index=False)"
   ]
  },
  {
   "cell_type": "markdown",
   "id": "60651e14-ae26-405c-8f34-6802ad80afe3",
   "metadata": {},
   "source": [
    "[ref]: #top\n",
    "[Back to Table of Contents][ref]"
   ]
  },
  {
   "cell_type": "markdown",
   "id": "4df4427b-4909-48d2-95f0-d3ab16ce27e3",
   "metadata": {},
   "source": [
    "<a name=\"analy\"></a>\n",
    "## Analysis\n",
    "***"
   ]
  },
  {
   "cell_type": "code",
   "execution_count": 24,
   "id": "0d332b91-03ff-43eb-9789-8ee8616f0216",
   "metadata": {
    "execution": {
     "iopub.execute_input": "2023-11-07T19:15:09.835025Z",
     "iopub.status.busy": "2023-11-07T19:15:09.834475Z",
     "iopub.status.idle": "2023-11-07T19:15:10.628369Z",
     "shell.execute_reply": "2023-11-07T19:15:10.627323Z",
     "shell.execute_reply.started": "2023-11-07T19:15:09.834975Z"
    },
    "tags": []
   },
   "outputs": [
    {
     "data": {
      "text/plain": [
       "127359"
      ]
     },
     "execution_count": 24,
     "metadata": {},
     "output_type": "execute_result"
    }
   ],
   "source": [
    "sql_str = \"\"\"\n",
    "SELECT *\n",
    "FROM\n",
    "openalex o\n",
    "\"\"\"\n",
    "total_df = pd.read_sql(sql_str, db_conn)\n",
    "total_count = len(total_df)\n",
    "total_count"
   ]
  },
  {
   "cell_type": "markdown",
   "id": "b59b8a6c-5dcb-4cb4-867a-43d74fa83825",
   "metadata": {
    "execution": {
     "iopub.execute_input": "2023-11-07T13:32:24.536323Z",
     "iopub.status.busy": "2023-11-07T13:32:24.535950Z",
     "iopub.status.idle": "2023-11-07T13:32:24.539810Z",
     "shell.execute_reply": "2023-11-07T13:32:24.539207Z",
     "shell.execute_reply.started": "2023-11-07T13:32:24.536283Z"
    },
    "tags": []
   },
   "source": [
    "<a name=\"analy_1\"></a>\n",
    "### Open Access Articles\n",
    "\n",
    "OpenAlex Indexed Articles that is is_oa = 1 and in ArXiv (6 rows was is_oa = 0 but available in ArXiv)"
   ]
  },
  {
   "cell_type": "code",
   "execution_count": 25,
   "id": "7581b332-a729-4963-932a-61d99404f764",
   "metadata": {
    "execution": {
     "iopub.execute_input": "2023-11-07T19:15:10.629846Z",
     "iopub.status.busy": "2023-11-07T19:15:10.629519Z",
     "iopub.status.idle": "2023-11-07T19:15:14.267160Z",
     "shell.execute_reply": "2023-11-07T19:15:14.265666Z",
     "shell.execute_reply.started": "2023-11-07T19:15:10.629820Z"
    },
    "tags": []
   },
   "outputs": [
    {
     "data": {
      "text/plain": [
       "58834"
      ]
     },
     "metadata": {},
     "output_type": "display_data"
    },
    {
     "data": {
      "text/html": [
       "<div>\n",
       "<style scoped>\n",
       "    .dataframe tbody tr th:only-of-type {\n",
       "        vertical-align: middle;\n",
       "    }\n",
       "\n",
       "    .dataframe tbody tr th {\n",
       "        vertical-align: top;\n",
       "    }\n",
       "\n",
       "    .dataframe thead th {\n",
       "        text-align: right;\n",
       "    }\n",
       "</style>\n",
       "<table border=\"1\" class=\"dataframe\">\n",
       "  <thead>\n",
       "    <tr style=\"text-align: right;\">\n",
       "      <th></th>\n",
       "      <th>arxiv_id</th>\n",
       "      <th>title</th>\n",
       "      <th>top_concept</th>\n",
       "      <th>extracted_countries</th>\n",
       "      <th>top_funder</th>\n",
       "      <th>is_oa</th>\n",
       "      <th>cited_by_count</th>\n",
       "      <th>doi</th>\n",
       "    </tr>\n",
       "  </thead>\n",
       "  <tbody>\n",
       "    <tr>\n",
       "      <th>0</th>\n",
       "      <td>None</td>\n",
       "      <td>O pojęciu godności narodowej w polskiej myśli ...</td>\n",
       "      <td>Sociology</td>\n",
       "      <td>PL</td>\n",
       "      <td>None</td>\n",
       "      <td>1</td>\n",
       "      <td>0</td>\n",
       "      <td>https://doi.org/10.11649/sn.2012.007</td>\n",
       "    </tr>\n",
       "    <tr>\n",
       "      <th>1</th>\n",
       "      <td>None</td>\n",
       "      <td>“Höchst unerwünschte Ausländer”: The Fate of E...</td>\n",
       "      <td>Political science</td>\n",
       "      <td>DE</td>\n",
       "      <td>None</td>\n",
       "      <td>1</td>\n",
       "      <td>0</td>\n",
       "      <td>https://doi.org/10.11649/sn.2012.017</td>\n",
       "    </tr>\n",
       "    <tr>\n",
       "      <th>2</th>\n",
       "      <td>None</td>\n",
       "      <td>Piwo i gospoda w kulturze czeskiej – polskie w...</td>\n",
       "      <td>Sociology</td>\n",
       "      <td>PL</td>\n",
       "      <td>None</td>\n",
       "      <td>1</td>\n",
       "      <td>0</td>\n",
       "      <td>https://doi.org/10.11649/sn.2012.021</td>\n",
       "    </tr>\n",
       "    <tr>\n",
       "      <th>3</th>\n",
       "      <td>None</td>\n",
       "      <td>La edición y traducción de textos médicos medi...</td>\n",
       "      <td>Art</td>\n",
       "      <td>ES</td>\n",
       "      <td>None</td>\n",
       "      <td>1</td>\n",
       "      <td>0</td>\n",
       "      <td>https://doi.org/10.58576/cilengua.vi4.169</td>\n",
       "    </tr>\n",
       "    <tr>\n",
       "      <th>4</th>\n",
       "      <td>None</td>\n",
       "      <td>Funkcje wypowiedzi katechetycznej</td>\n",
       "      <td>Philosophy</td>\n",
       "      <td>GB</td>\n",
       "      <td>None</td>\n",
       "      <td>1</td>\n",
       "      <td>0</td>\n",
       "      <td>https://doi.org/10.21852/sem.2009.26.5</td>\n",
       "    </tr>\n",
       "  </tbody>\n",
       "</table>\n",
       "</div>"
      ],
      "text/plain": [
       "  arxiv_id                                              title  \\\n",
       "0     None  O pojęciu godności narodowej w polskiej myśli ...   \n",
       "1     None  “Höchst unerwünschte Ausländer”: The Fate of E...   \n",
       "2     None  Piwo i gospoda w kulturze czeskiej – polskie w...   \n",
       "3     None  La edición y traducción de textos médicos medi...   \n",
       "4     None                  Funkcje wypowiedzi katechetycznej   \n",
       "\n",
       "         top_concept extracted_countries top_funder  is_oa  cited_by_count  \\\n",
       "0          Sociology                  PL       None      1               0   \n",
       "1  Political science                  DE       None      1               0   \n",
       "2          Sociology                  PL       None      1               0   \n",
       "3                Art                  ES       None      1               0   \n",
       "4         Philosophy                  GB       None      1               0   \n",
       "\n",
       "                                         doi  \n",
       "0       https://doi.org/10.11649/sn.2012.007  \n",
       "1       https://doi.org/10.11649/sn.2012.017  \n",
       "2       https://doi.org/10.11649/sn.2012.021  \n",
       "3  https://doi.org/10.58576/cilengua.vi4.169  \n",
       "4     https://doi.org/10.21852/sem.2009.26.5  "
      ]
     },
     "metadata": {},
     "output_type": "display_data"
    }
   ],
   "source": [
    "sql_str = \"\"\"\n",
    "SELECT\n",
    "    a.arxiv_id,\n",
    "    o.title,\n",
    "    o.top_concept,\n",
    "    o.extracted_countries,\n",
    "    o.top_funder,\n",
    "    o.is_oa,\n",
    "    o.cited_by_count,\n",
    "    coalesce(o.doi, a.doi) as doi\n",
    "FROM\n",
    "openalex o\n",
    "LEFT JOIN arxiv a\n",
    "    ON a.doi = o.doi\n",
    "WHERE o.is_oa = 1 OR arxiv_id is not null\n",
    "\"\"\"\n",
    "df_oa = pd.read_sql(sql_str, db_conn)\n",
    "count_oa = len(df_oa)\n",
    "display(count_oa)\n",
    "display(df_oa.head(5))"
   ]
  },
  {
   "cell_type": "markdown",
   "id": "8dafc925-ab0a-4ae8-9b6b-1aeeb80879c4",
   "metadata": {},
   "source": [
    "Top 5 countries:"
   ]
  },
  {
   "cell_type": "code",
   "execution_count": 26,
   "id": "ae8ed4b1-faa1-46f9-ad14-782e98446912",
   "metadata": {
    "execution": {
     "iopub.execute_input": "2023-11-07T19:15:14.269917Z",
     "iopub.status.busy": "2023-11-07T19:15:14.269459Z",
     "iopub.status.idle": "2023-11-07T19:15:14.289999Z",
     "shell.execute_reply": "2023-11-07T19:15:14.289018Z",
     "shell.execute_reply.started": "2023-11-07T19:15:14.269870Z"
    },
    "tags": []
   },
   "outputs": [
    {
     "data": {
      "text/plain": [
       "['US', 'CN', 'ID', 'IN', 'GB']"
      ]
     },
     "execution_count": 26,
     "metadata": {},
     "output_type": "execute_result"
    }
   ],
   "source": [
    "top_5_c_oa = df_oa['extracted_countries'].value_counts()[0:5]\n",
    "list(top_5_c_oa.index)"
   ]
  },
  {
   "cell_type": "markdown",
   "id": "f5a2867d-834d-438c-9695-ac97f347eab6",
   "metadata": {},
   "source": [
    "Top 5 concepts:"
   ]
  },
  {
   "cell_type": "code",
   "execution_count": 27,
   "id": "8602528f-ead3-48bf-89de-a53e96d5b1c2",
   "metadata": {
    "execution": {
     "iopub.execute_input": "2023-11-07T19:15:14.291434Z",
     "iopub.status.busy": "2023-11-07T19:15:14.291195Z",
     "iopub.status.idle": "2023-11-07T19:15:14.308948Z",
     "shell.execute_reply": "2023-11-07T19:15:14.308054Z",
     "shell.execute_reply.started": "2023-11-07T19:15:14.291396Z"
    },
    "tags": []
   },
   "outputs": [
    {
     "data": {
      "text/plain": [
       "['Mathematics', 'Geography', 'Chemistry', 'Medicine', 'Computer science']"
      ]
     },
     "execution_count": 27,
     "metadata": {},
     "output_type": "execute_result"
    }
   ],
   "source": [
    "top_5_con_oa = df_oa['top_concept'].value_counts()[0:5][::-1]\n",
    "list(top_5_con_oa.index)"
   ]
  },
  {
   "cell_type": "code",
   "execution_count": 28,
   "id": "d65f7e81-eb81-4e5a-9060-32a2943a40a4",
   "metadata": {
    "execution": {
     "iopub.execute_input": "2023-11-07T19:15:14.310526Z",
     "iopub.status.busy": "2023-11-07T19:15:14.310226Z",
     "iopub.status.idle": "2023-11-07T19:15:14.906874Z",
     "shell.execute_reply": "2023-11-07T19:15:14.905932Z",
     "shell.execute_reply.started": "2023-11-07T19:15:14.310465Z"
    },
    "tags": []
   },
   "outputs": [
    {
     "data": {
      "text/plain": [
       "58834"
      ]
     },
     "execution_count": 28,
     "metadata": {},
     "output_type": "execute_result"
    }
   ],
   "source": [
    "df_oa.to_sql('openaccess', db_conn, if_exists='replace', index=False)"
   ]
  },
  {
   "cell_type": "markdown",
   "id": "3e559d31-338d-4e23-90cf-d660fd15c0ea",
   "metadata": {
    "execution": {
     "iopub.execute_input": "2023-11-07T13:38:46.726878Z",
     "iopub.status.busy": "2023-11-07T13:38:46.725858Z",
     "iopub.status.idle": "2023-11-07T13:38:46.731835Z",
     "shell.execute_reply": "2023-11-07T13:38:46.730553Z",
     "shell.execute_reply.started": "2023-11-07T13:38:46.726825Z"
    },
    "tags": []
   },
   "source": [
    "<a name=\"analy_2\"></a>\n",
    "### ArXiv Open Access Articles"
   ]
  },
  {
   "cell_type": "code",
   "execution_count": 29,
   "id": "530ca3aa-fa80-4128-9730-1c845b12020e",
   "metadata": {
    "execution": {
     "iopub.execute_input": "2023-11-07T19:15:14.908418Z",
     "iopub.status.busy": "2023-11-07T19:15:14.908124Z",
     "iopub.status.idle": "2023-11-07T19:15:18.436288Z",
     "shell.execute_reply": "2023-11-07T19:15:18.435316Z",
     "shell.execute_reply.started": "2023-11-07T19:15:14.908390Z"
    },
    "tags": []
   },
   "outputs": [
    {
     "data": {
      "text/plain": [
       "330"
      ]
     },
     "metadata": {},
     "output_type": "display_data"
    },
    {
     "data": {
      "text/html": [
       "<div>\n",
       "<style scoped>\n",
       "    .dataframe tbody tr th:only-of-type {\n",
       "        vertical-align: middle;\n",
       "    }\n",
       "\n",
       "    .dataframe tbody tr th {\n",
       "        vertical-align: top;\n",
       "    }\n",
       "\n",
       "    .dataframe thead th {\n",
       "        text-align: right;\n",
       "    }\n",
       "</style>\n",
       "<table border=\"1\" class=\"dataframe\">\n",
       "  <thead>\n",
       "    <tr style=\"text-align: right;\">\n",
       "      <th></th>\n",
       "      <th>arxiv_id</th>\n",
       "      <th>tit1</th>\n",
       "      <th>tit2</th>\n",
       "      <th>top_concept</th>\n",
       "      <th>extracted_countries</th>\n",
       "      <th>top_funder</th>\n",
       "      <th>is_oa</th>\n",
       "      <th>doi</th>\n",
       "    </tr>\n",
       "  </thead>\n",
       "  <tbody>\n",
       "    <tr>\n",
       "      <th>0</th>\n",
       "      <td>2303.04741</td>\n",
       "      <td>GETNext: Trajectory Flow Map Enhanced Transfor...</td>\n",
       "      <td>GETNext</td>\n",
       "      <td>Computer science</td>\n",
       "      <td>NZ</td>\n",
       "      <td>None</td>\n",
       "      <td>1</td>\n",
       "      <td>https://doi.org/10.1145/3477495.3531983</td>\n",
       "    </tr>\n",
       "    <tr>\n",
       "      <th>1</th>\n",
       "      <td>2306.11733</td>\n",
       "      <td>ARA-residual power series method for solving p...</td>\n",
       "      <td>ARA-residual power series method for solving p...</td>\n",
       "      <td>Mathematics</td>\n",
       "      <td>JO</td>\n",
       "      <td>None</td>\n",
       "      <td>1</td>\n",
       "      <td>https://doi.org/10.1016/j.aej.2022.07.022</td>\n",
       "    </tr>\n",
       "    <tr>\n",
       "      <th>2</th>\n",
       "      <td>2203.02132</td>\n",
       "      <td>Thermal Relaxation of Dark Matter Admixed Neut...</td>\n",
       "      <td>Thermal relaxation of dark matter admixed neut...</td>\n",
       "      <td>Physics</td>\n",
       "      <td>IN</td>\n",
       "      <td>None</td>\n",
       "      <td>1</td>\n",
       "      <td>https://doi.org/10.1093/mnras/stac1013</td>\n",
       "    </tr>\n",
       "    <tr>\n",
       "      <th>3</th>\n",
       "      <td>2204.02719</td>\n",
       "      <td>A study of the F-giant star $\\theta$ Scorpii A...</td>\n",
       "      <td>A study of the F-giant star θ Scorpii A: a pos...</td>\n",
       "      <td>Physics</td>\n",
       "      <td>AU</td>\n",
       "      <td>None</td>\n",
       "      <td>1</td>\n",
       "      <td>https://doi.org/10.1093/mnras/stac991</td>\n",
       "    </tr>\n",
       "    <tr>\n",
       "      <th>4</th>\n",
       "      <td>2205.04868</td>\n",
       "      <td>Modeling nonlocal behavior in epidemics via a ...</td>\n",
       "      <td>Modeling nonlocal behavior in epidemics via a ...</td>\n",
       "      <td>Computer science</td>\n",
       "      <td>BR</td>\n",
       "      <td>None</td>\n",
       "      <td>1</td>\n",
       "      <td>https://doi.org/10.1016/j.cma.2022.115541</td>\n",
       "    </tr>\n",
       "  </tbody>\n",
       "</table>\n",
       "</div>"
      ],
      "text/plain": [
       "     arxiv_id                                               tit1  \\\n",
       "0  2303.04741  GETNext: Trajectory Flow Map Enhanced Transfor...   \n",
       "1  2306.11733  ARA-residual power series method for solving p...   \n",
       "2  2203.02132  Thermal Relaxation of Dark Matter Admixed Neut...   \n",
       "3  2204.02719  A study of the F-giant star $\\theta$ Scorpii A...   \n",
       "4  2205.04868  Modeling nonlocal behavior in epidemics via a ...   \n",
       "\n",
       "                                                tit2       top_concept  \\\n",
       "0                                            GETNext  Computer science   \n",
       "1  ARA-residual power series method for solving p...       Mathematics   \n",
       "2  Thermal relaxation of dark matter admixed neut...           Physics   \n",
       "3  A study of the F-giant star θ Scorpii A: a pos...           Physics   \n",
       "4  Modeling nonlocal behavior in epidemics via a ...  Computer science   \n",
       "\n",
       "  extracted_countries top_funder  is_oa  \\\n",
       "0                  NZ       None      1   \n",
       "1                  JO       None      1   \n",
       "2                  IN       None      1   \n",
       "3                  AU       None      1   \n",
       "4                  BR       None      1   \n",
       "\n",
       "                                         doi  \n",
       "0    https://doi.org/10.1145/3477495.3531983  \n",
       "1  https://doi.org/10.1016/j.aej.2022.07.022  \n",
       "2     https://doi.org/10.1093/mnras/stac1013  \n",
       "3      https://doi.org/10.1093/mnras/stac991  \n",
       "4  https://doi.org/10.1016/j.cma.2022.115541  "
      ]
     },
     "metadata": {},
     "output_type": "display_data"
    }
   ],
   "source": [
    "sql_str = \"\"\"\n",
    "SELECT\n",
    "    a.arxiv_id,\n",
    "    a.title as tit1,\n",
    "    o.title as tit2,\n",
    "    o.top_concept,\n",
    "    o.extracted_countries,\n",
    "    o.top_funder,\n",
    "    o.is_oa,\n",
    "    coalesce(o.doi, a.doi) as doi\n",
    "FROM\n",
    "openaccess o\n",
    "INNER JOIN arxiv a\n",
    "    on o.doi = a.doi\n",
    "\"\"\"\n",
    "df_arxiv_only = pd.read_sql(sql_str, db_conn)\n",
    "df_arxiv_only\n",
    "count_arxiv_only = len(df_arxiv_only)\n",
    "display(count_arxiv_only)\n",
    "display(df_arxiv_only.head(5))"
   ]
  },
  {
   "cell_type": "markdown",
   "id": "a303d9e6-efd8-48dc-9233-777546493a49",
   "metadata": {},
   "source": [
    "Top 5 countries"
   ]
  },
  {
   "cell_type": "code",
   "execution_count": 30,
   "id": "7767530a-a858-4fb0-b1b3-a96ae0031683",
   "metadata": {
    "execution": {
     "iopub.execute_input": "2023-11-07T19:15:18.437753Z",
     "iopub.status.busy": "2023-11-07T19:15:18.437377Z",
     "iopub.status.idle": "2023-11-07T19:15:18.444492Z",
     "shell.execute_reply": "2023-11-07T19:15:18.443676Z",
     "shell.execute_reply.started": "2023-11-07T19:15:18.437723Z"
    },
    "tags": []
   },
   "outputs": [
    {
     "data": {
      "text/plain": [
       "['US', 'CN', 'IN', 'JP', 'AU']"
      ]
     },
     "execution_count": 30,
     "metadata": {},
     "output_type": "execute_result"
    }
   ],
   "source": [
    "top_5_c_arx = df_arxiv_only['extracted_countries'].value_counts()[0:5]\n",
    "list(top_5_c_arx.index)"
   ]
  },
  {
   "cell_type": "markdown",
   "id": "f4136961-b44d-4173-8aae-39d152a2f8f4",
   "metadata": {},
   "source": [
    "Top 5 concepts"
   ]
  },
  {
   "cell_type": "code",
   "execution_count": 31,
   "id": "7808f782-36c2-471d-9072-6cddff05e82d",
   "metadata": {
    "execution": {
     "iopub.execute_input": "2023-11-07T19:15:18.446478Z",
     "iopub.status.busy": "2023-11-07T19:15:18.445710Z",
     "iopub.status.idle": "2023-11-07T19:15:18.452578Z",
     "shell.execute_reply": "2023-11-07T19:15:18.451856Z",
     "shell.execute_reply.started": "2023-11-07T19:15:18.446449Z"
    },
    "tags": []
   },
   "outputs": [
    {
     "data": {
      "text/plain": [
       "['Geology', 'Materials science', 'Mathematics', 'Computer science', 'Physics']"
      ]
     },
     "execution_count": 31,
     "metadata": {},
     "output_type": "execute_result"
    }
   ],
   "source": [
    "top_5_con_arx = df_arxiv_only['top_concept'].value_counts()[0:5][::-1]\n",
    "list(top_5_con_arx.index)"
   ]
  },
  {
   "cell_type": "markdown",
   "id": "248d7bcb-0a04-4de3-b6f1-81aa91508d41",
   "metadata": {},
   "source": [
    "[ref]: #top\n",
    "[top][ref]"
   ]
  },
  {
   "cell_type": "markdown",
   "id": "56e2b809-ba92-4c84-89cc-32b8804b44f9",
   "metadata": {},
   "source": [
    "<a name=\"analy_3\"></a>\n",
    "### Not Open Access Articles"
   ]
  },
  {
   "cell_type": "code",
   "execution_count": 32,
   "id": "bd5c8f60-99e9-49a7-b0c1-0bb6a515f301",
   "metadata": {
    "execution": {
     "iopub.execute_input": "2023-11-07T19:15:18.453927Z",
     "iopub.status.busy": "2023-11-07T19:15:18.453621Z",
     "iopub.status.idle": "2023-11-07T19:15:22.167624Z",
     "shell.execute_reply": "2023-11-07T19:15:22.166677Z",
     "shell.execute_reply.started": "2023-11-07T19:15:18.453882Z"
    },
    "tags": []
   },
   "outputs": [
    {
     "data": {
      "text/plain": [
       "68525"
      ]
     },
     "metadata": {},
     "output_type": "display_data"
    },
    {
     "data": {
      "text/html": [
       "<div>\n",
       "<style scoped>\n",
       "    .dataframe tbody tr th:only-of-type {\n",
       "        vertical-align: middle;\n",
       "    }\n",
       "\n",
       "    .dataframe tbody tr th {\n",
       "        vertical-align: top;\n",
       "    }\n",
       "\n",
       "    .dataframe thead th {\n",
       "        text-align: right;\n",
       "    }\n",
       "</style>\n",
       "<table border=\"1\" class=\"dataframe\">\n",
       "  <thead>\n",
       "    <tr style=\"text-align: right;\">\n",
       "      <th></th>\n",
       "      <th>arxiv_id</th>\n",
       "      <th>title</th>\n",
       "      <th>top_concept</th>\n",
       "      <th>extracted_countries</th>\n",
       "      <th>top_funder</th>\n",
       "      <th>is_oa</th>\n",
       "      <th>doi</th>\n",
       "    </tr>\n",
       "  </thead>\n",
       "  <tbody>\n",
       "    <tr>\n",
       "      <th>0</th>\n",
       "      <td>None</td>\n",
       "      <td>Cheese Analogs</td>\n",
       "      <td>Chemistry</td>\n",
       "      <td>IE</td>\n",
       "      <td>None</td>\n",
       "      <td>0</td>\n",
       "      <td>https://doi.org/10.1016/b978-0-12-818766-1.000...</td>\n",
       "    </tr>\n",
       "    <tr>\n",
       "      <th>1</th>\n",
       "      <td>None</td>\n",
       "      <td>Lactic Acid Bacteria: Exopolysaccharides</td>\n",
       "      <td>Chemistry</td>\n",
       "      <td>DE</td>\n",
       "      <td>None</td>\n",
       "      <td>0</td>\n",
       "      <td>https://doi.org/10.1016/b978-0-08-100596-5.229...</td>\n",
       "    </tr>\n",
       "    <tr>\n",
       "      <th>2</th>\n",
       "      <td>None</td>\n",
       "      <td>Geohelminths</td>\n",
       "      <td>Biology</td>\n",
       "      <td>IT</td>\n",
       "      <td>None</td>\n",
       "      <td>0</td>\n",
       "      <td>https://doi.org/10.1016/b978-0-12-818731-9.000...</td>\n",
       "    </tr>\n",
       "    <tr>\n",
       "      <th>3</th>\n",
       "      <td>None</td>\n",
       "      <td>The migration trajectory of the Benin Bronzes</td>\n",
       "      <td>Sociology</td>\n",
       "      <td>US</td>\n",
       "      <td>None</td>\n",
       "      <td>0</td>\n",
       "      <td>https://doi.org/10.1093/migration/mnab016</td>\n",
       "    </tr>\n",
       "    <tr>\n",
       "      <th>4</th>\n",
       "      <td>None</td>\n",
       "      <td>Sleep in infants and children with chronic res...</td>\n",
       "      <td>Medicine</td>\n",
       "      <td>US</td>\n",
       "      <td>None</td>\n",
       "      <td>0</td>\n",
       "      <td>https://doi.org/10.1016/b978-0-12-822963-7.002...</td>\n",
       "    </tr>\n",
       "  </tbody>\n",
       "</table>\n",
       "</div>"
      ],
      "text/plain": [
       "  arxiv_id                                              title top_concept  \\\n",
       "0     None                                     Cheese Analogs   Chemistry   \n",
       "1     None           Lactic Acid Bacteria: Exopolysaccharides   Chemistry   \n",
       "2     None                                       Geohelminths     Biology   \n",
       "3     None      The migration trajectory of the Benin Bronzes   Sociology   \n",
       "4     None  Sleep in infants and children with chronic res...    Medicine   \n",
       "\n",
       "  extracted_countries top_funder  is_oa  \\\n",
       "0                  IE       None      0   \n",
       "1                  DE       None      0   \n",
       "2                  IT       None      0   \n",
       "3                  US       None      0   \n",
       "4                  US       None      0   \n",
       "\n",
       "                                                 doi  \n",
       "0  https://doi.org/10.1016/b978-0-12-818766-1.000...  \n",
       "1  https://doi.org/10.1016/b978-0-08-100596-5.229...  \n",
       "2  https://doi.org/10.1016/b978-0-12-818731-9.000...  \n",
       "3          https://doi.org/10.1093/migration/mnab016  \n",
       "4  https://doi.org/10.1016/b978-0-12-822963-7.002...  "
      ]
     },
     "metadata": {},
     "output_type": "display_data"
    }
   ],
   "source": [
    "sql_str = \"\"\"\n",
    "SELECT\n",
    "    a.arxiv_id,\n",
    "    o.title,\n",
    "    o.top_concept,\n",
    "    o.extracted_countries,\n",
    "    o.top_funder,\n",
    "    o.is_oa,\n",
    "    coalesce(o.doi, a.doi) as doi\n",
    "FROM\n",
    "openalex o\n",
    "LEFT JOIN arxiv a\n",
    "    ON a.doi = o.doi\n",
    "WHERE a.doi IS NULL AND\n",
    "o.is_oa = 0\n",
    "\"\"\"\n",
    "df_not_oa = pd.read_sql(sql_str, db_conn)\n",
    "count_not_oa = len(df_not_oa)\n",
    "display(count_not_oa)\n",
    "display(df_not_oa.head(5))"
   ]
  },
  {
   "cell_type": "markdown",
   "id": "b3bf448a-6d7c-42ea-9665-cc5d4f8033ea",
   "metadata": {},
   "source": [
    "[ref]: #top\n",
    "[top][ref]"
   ]
  },
  {
   "cell_type": "markdown",
   "id": "1a61174e-e602-44be-aaee-4f9a9437f685",
   "metadata": {},
   "source": [
    "Top 5 countries:"
   ]
  },
  {
   "cell_type": "code",
   "execution_count": 33,
   "id": "5dbc68cb-e9c8-4673-8853-c327be1c0946",
   "metadata": {
    "execution": {
     "iopub.execute_input": "2023-11-07T19:15:22.169064Z",
     "iopub.status.busy": "2023-11-07T19:15:22.168787Z",
     "iopub.status.idle": "2023-11-07T19:15:22.187565Z",
     "shell.execute_reply": "2023-11-07T19:15:22.186467Z",
     "shell.execute_reply.started": "2023-11-07T19:15:22.169036Z"
    },
    "tags": []
   },
   "outputs": [
    {
     "data": {
      "text/plain": [
       "['CN', 'US', 'IN', 'DE', 'JP']"
      ]
     },
     "execution_count": 33,
     "metadata": {},
     "output_type": "execute_result"
    }
   ],
   "source": [
    "top_5_c_not_oa = df_not_oa['extracted_countries'].value_counts()[0:5]\n",
    "list(top_5_c_not_oa.index)"
   ]
  },
  {
   "cell_type": "markdown",
   "id": "be23bd50-ad45-4b0c-abb3-d5632e3c61e2",
   "metadata": {},
   "source": [
    "Top 5 concepts:"
   ]
  },
  {
   "cell_type": "code",
   "execution_count": 34,
   "id": "8a5a5126-7fd7-458c-8b6a-63b4d2e2e9de",
   "metadata": {
    "execution": {
     "iopub.execute_input": "2023-11-07T19:15:22.188906Z",
     "iopub.status.busy": "2023-11-07T19:15:22.188643Z",
     "iopub.status.idle": "2023-11-07T19:15:22.208553Z",
     "shell.execute_reply": "2023-11-07T19:15:22.207599Z",
     "shell.execute_reply.started": "2023-11-07T19:15:22.188879Z"
    },
    "tags": []
   },
   "outputs": [
    {
     "data": {
      "text/plain": [
       "['Psychology',\n",
       " 'Chemistry',\n",
       " 'Materials science',\n",
       " 'Medicine',\n",
       " 'Computer science']"
      ]
     },
     "execution_count": 34,
     "metadata": {},
     "output_type": "execute_result"
    }
   ],
   "source": [
    "top_5_con_not_oa = df_not_oa['top_concept'].value_counts()[0:5][::-1]\n",
    "list(top_5_con_not_oa.index)"
   ]
  },
  {
   "cell_type": "markdown",
   "id": "db727f56-d39a-4b2a-b2d5-53fe4602eaff",
   "metadata": {},
   "source": [
    "[ref]: #top\n",
    "[top][ref]"
   ]
  },
  {
   "cell_type": "markdown",
   "id": "de47014d-0ac3-449a-abdf-a1601e62bb84",
   "metadata": {},
   "source": [
    "<a name=\"analy_4\"></a>\n",
    "### Calculation of Open Access, Not Open Access and ArxiV only Percentages of Indexed Articles\n",
    "\n",
    "$$\\%\\text{Percentage Open Access} = \\frac{\\text{Open Access Articles}}{\\text{Total Articles}} \\cdot 100$$\n",
    "\n",
    "$$\\%\\text{Percentage Not Open Access} = \\frac{\\text{Not Open Access Articles}}{\\text{Total Articles}} \\cdot 100$$\n",
    "\n",
    "$$\\%\\text{Percentage ArXiv Open Access} = \\frac{\\text{ArXiv Articles}}{\\text{Open Access Articles}} \\cdot 100$$"
   ]
  },
  {
   "cell_type": "code",
   "execution_count": 182,
   "id": "a8bc9a10-6c59-4535-8f1b-90e0dd3d517c",
   "metadata": {
    "execution": {
     "iopub.execute_input": "2023-11-08T15:45:43.792270Z",
     "iopub.status.busy": "2023-11-08T15:45:43.791746Z",
     "iopub.status.idle": "2023-11-08T15:45:43.802700Z",
     "shell.execute_reply": "2023-11-08T15:45:43.801352Z",
     "shell.execute_reply.started": "2023-11-08T15:45:43.792211Z"
    },
    "tags": []
   },
   "outputs": [
    {
     "name": "stdout",
     "output_type": "stream",
     "text": [
      "Open Access = 46.2 %\n",
      "Not Open Access = 53.8 %\n",
      "ArXiv Open Access = 0.56 %\n"
     ]
    }
   ],
   "source": [
    "oa_percentage = (count_oa/total_count) * 100\n",
    "print(f'Open Access = {round(oa_percentage, 2)} %')\n",
    "not_oa_percentage = (count_not_oa/total_count) * 100\n",
    "print(f'Not Open Access = {round(not_oa_percentage, 2)} %')\n",
    "arxiv_only_percentage = (count_arxiv_only/count_oa) * 100\n",
    "print(f'ArXiv Open Access = {round(arxiv_only_percentage, 2)} %')"
   ]
  },
  {
   "cell_type": "markdown",
   "id": "f4f8c2ad-30b7-4c95-a815-ce48a2bc4cd6",
   "metadata": {},
   "source": [
    "[ref]: #top\n",
    "[top][ref]"
   ]
  },
  {
   "cell_type": "markdown",
   "id": "c2b70404-1fbe-4318-b76b-07a18bbb87b8",
   "metadata": {},
   "source": [
    "<a name=\"analy_5\"></a>\n",
    "### Calculation of Cited by Ratio\n",
    "\n",
    "$$\\text{Cited by Ratio} = \\frac{\\text{Sum of cited_by_count}}{\\text{Total Articles}}$$"
   ]
  },
  {
   "cell_type": "code",
   "execution_count": 36,
   "id": "b4dbcb33-5b98-4922-99ea-ef525dbec0dc",
   "metadata": {
    "execution": {
     "iopub.execute_input": "2023-11-07T19:15:22.218010Z",
     "iopub.status.busy": "2023-11-07T19:15:22.217365Z",
     "iopub.status.idle": "2023-11-07T19:15:24.119523Z",
     "shell.execute_reply": "2023-11-07T19:15:24.117722Z",
     "shell.execute_reply.started": "2023-11-07T19:15:22.217983Z"
    },
    "tags": []
   },
   "outputs": [
    {
     "data": {
      "text/html": [
       "<div>\n",
       "<style scoped>\n",
       "    .dataframe tbody tr th:only-of-type {\n",
       "        vertical-align: middle;\n",
       "    }\n",
       "\n",
       "    .dataframe tbody tr th {\n",
       "        vertical-align: top;\n",
       "    }\n",
       "\n",
       "    .dataframe thead th {\n",
       "        text-align: right;\n",
       "    }\n",
       "</style>\n",
       "<table border=\"1\" class=\"dataframe\">\n",
       "  <thead>\n",
       "    <tr style=\"text-align: right;\">\n",
       "      <th></th>\n",
       "      <th>cnt_cited_by</th>\n",
       "    </tr>\n",
       "  </thead>\n",
       "  <tbody>\n",
       "    <tr>\n",
       "      <th>0</th>\n",
       "      <td>0.42</td>\n",
       "    </tr>\n",
       "  </tbody>\n",
       "</table>\n",
       "</div>"
      ],
      "text/plain": [
       "   cnt_cited_by\n",
       "0          0.42"
      ]
     },
     "execution_count": 36,
     "metadata": {},
     "output_type": "execute_result"
    }
   ],
   "source": [
    "sql_str = \"\"\"\n",
    "SELECT\n",
    "    ROUND(\n",
    "        CAST(sum(o.cited_by_count) as REAL)/CAST(count(*) AS REAL),\n",
    "        2\n",
    "    )\n",
    "    as cnt_cited_by\n",
    "FROM\n",
    "openalex o\n",
    "LEFT JOIN arxiv a\n",
    "    ON a.doi = o.doi\n",
    "WHERE o.is_oa = 1 OR arxiv_id is not null\n",
    "\"\"\"\n",
    "df = pd.read_sql(sql_str, db_conn)\n",
    "df"
   ]
  },
  {
   "cell_type": "code",
   "execution_count": 37,
   "id": "9c8f6924-689b-4e26-b34a-5bdd2af6468c",
   "metadata": {
    "execution": {
     "iopub.execute_input": "2023-11-07T19:15:24.122022Z",
     "iopub.status.busy": "2023-11-07T19:15:24.121508Z",
     "iopub.status.idle": "2023-11-07T19:15:24.129056Z",
     "shell.execute_reply": "2023-11-07T19:15:24.128056Z",
     "shell.execute_reply.started": "2023-11-07T19:15:24.121973Z"
    },
    "tags": []
   },
   "outputs": [
    {
     "name": "stdout",
     "output_type": "stream",
     "text": [
      "Open access papers are cited 0.42 on average by other authors\n"
     ]
    }
   ],
   "source": [
    "oa_cited_ratio = df.iloc[0, 0]\n",
    "print(f'Open access papers are cited {oa_cited_ratio} on average by other authors')"
   ]
  },
  {
   "cell_type": "code",
   "execution_count": 38,
   "id": "3c0021bf-ea0d-45d5-b77c-e0a37d040999",
   "metadata": {
    "execution": {
     "iopub.execute_input": "2023-11-07T19:15:24.131231Z",
     "iopub.status.busy": "2023-11-07T19:15:24.130546Z",
     "iopub.status.idle": "2023-11-07T19:15:25.916866Z",
     "shell.execute_reply": "2023-11-07T19:15:25.915868Z",
     "shell.execute_reply.started": "2023-11-07T19:15:24.131193Z"
    },
    "tags": []
   },
   "outputs": [
    {
     "data": {
      "text/html": [
       "<div>\n",
       "<style scoped>\n",
       "    .dataframe tbody tr th:only-of-type {\n",
       "        vertical-align: middle;\n",
       "    }\n",
       "\n",
       "    .dataframe tbody tr th {\n",
       "        vertical-align: top;\n",
       "    }\n",
       "\n",
       "    .dataframe thead th {\n",
       "        text-align: right;\n",
       "    }\n",
       "</style>\n",
       "<table border=\"1\" class=\"dataframe\">\n",
       "  <thead>\n",
       "    <tr style=\"text-align: right;\">\n",
       "      <th></th>\n",
       "      <th>cnt_cited_by</th>\n",
       "    </tr>\n",
       "  </thead>\n",
       "  <tbody>\n",
       "    <tr>\n",
       "      <th>0</th>\n",
       "      <td>0.71</td>\n",
       "    </tr>\n",
       "  </tbody>\n",
       "</table>\n",
       "</div>"
      ],
      "text/plain": [
       "   cnt_cited_by\n",
       "0          0.71"
      ]
     },
     "execution_count": 38,
     "metadata": {},
     "output_type": "execute_result"
    }
   ],
   "source": [
    "sql_str = \"\"\"\n",
    "SELECT\n",
    "    ROUND(\n",
    "        CAST(sum(o.cited_by_count) as REAL)/CAST(count(*) AS REAL),\n",
    "        2\n",
    "    )\n",
    "    as cnt_cited_by\n",
    "FROM\n",
    "openalex o\n",
    "LEFT JOIN arxiv a\n",
    "    ON a.doi = o.doi\n",
    "WHERE a.doi IS NULL AND\n",
    "o.is_oa = 0\n",
    "\"\"\"\n",
    "df = pd.read_sql(sql_str, db_conn)\n",
    "df"
   ]
  },
  {
   "cell_type": "code",
   "execution_count": 39,
   "id": "b4426b6a-68ce-425f-8daf-3db9dac8db4d",
   "metadata": {
    "execution": {
     "iopub.execute_input": "2023-11-07T19:15:25.918353Z",
     "iopub.status.busy": "2023-11-07T19:15:25.918061Z",
     "iopub.status.idle": "2023-11-07T19:15:25.923400Z",
     "shell.execute_reply": "2023-11-07T19:15:25.922583Z",
     "shell.execute_reply.started": "2023-11-07T19:15:25.918325Z"
    },
    "tags": []
   },
   "outputs": [
    {
     "name": "stdout",
     "output_type": "stream",
     "text": [
      "Paid papers are cited 0.71 on average by other authors\n"
     ]
    }
   ],
   "source": [
    "not_oa_cited_ratio = df.iloc[0, 0]\n",
    "print(f'Paid papers are cited {not_oa_cited_ratio} on average by other authors')"
   ]
  },
  {
   "cell_type": "code",
   "execution_count": 40,
   "id": "a280b4c7-58fb-401b-827b-0fa287b305e0",
   "metadata": {
    "execution": {
     "iopub.execute_input": "2023-11-07T19:15:25.924682Z",
     "iopub.status.busy": "2023-11-07T19:15:25.924414Z",
     "iopub.status.idle": "2023-11-07T19:15:29.197499Z",
     "shell.execute_reply": "2023-11-07T19:15:29.196420Z",
     "shell.execute_reply.started": "2023-11-07T19:15:25.924656Z"
    },
    "tags": []
   },
   "outputs": [
    {
     "data": {
      "text/html": [
       "<div>\n",
       "<style scoped>\n",
       "    .dataframe tbody tr th:only-of-type {\n",
       "        vertical-align: middle;\n",
       "    }\n",
       "\n",
       "    .dataframe tbody tr th {\n",
       "        vertical-align: top;\n",
       "    }\n",
       "\n",
       "    .dataframe thead th {\n",
       "        text-align: right;\n",
       "    }\n",
       "</style>\n",
       "<table border=\"1\" class=\"dataframe\">\n",
       "  <thead>\n",
       "    <tr style=\"text-align: right;\">\n",
       "      <th></th>\n",
       "      <th>cnt_cited_by</th>\n",
       "    </tr>\n",
       "  </thead>\n",
       "  <tbody>\n",
       "    <tr>\n",
       "      <th>0</th>\n",
       "      <td>1.16</td>\n",
       "    </tr>\n",
       "  </tbody>\n",
       "</table>\n",
       "</div>"
      ],
      "text/plain": [
       "   cnt_cited_by\n",
       "0          1.16"
      ]
     },
     "execution_count": 40,
     "metadata": {},
     "output_type": "execute_result"
    }
   ],
   "source": [
    "sql_str = \"\"\"\n",
    "SELECT\n",
    "    ROUND(\n",
    "        CAST(sum(o.cited_by_count) as REAL)/CAST(count(*) AS REAL),\n",
    "        2\n",
    "    )\n",
    "    as cnt_cited_by\n",
    "FROM\n",
    "openaccess o\n",
    "INNER JOIN arxiv a\n",
    "    on o.doi = a.doi\n",
    "\"\"\"\n",
    "df = pd.read_sql(sql_str, db_conn)\n",
    "df"
   ]
  },
  {
   "cell_type": "code",
   "execution_count": 41,
   "id": "b981f6b5-b3a1-4a4a-a89e-a2b76ed5d472",
   "metadata": {
    "execution": {
     "iopub.execute_input": "2023-11-07T19:15:29.199860Z",
     "iopub.status.busy": "2023-11-07T19:15:29.199621Z",
     "iopub.status.idle": "2023-11-07T19:15:29.205100Z",
     "shell.execute_reply": "2023-11-07T19:15:29.204269Z",
     "shell.execute_reply.started": "2023-11-07T19:15:29.199838Z"
    },
    "tags": []
   },
   "outputs": [
    {
     "name": "stdout",
     "output_type": "stream",
     "text": [
      "ArXiv papers are cited 1.16 on average by other authors\n"
     ]
    }
   ],
   "source": [
    "arxiv_ratio = df.iloc[0, 0]\n",
    "print(f'ArXiv papers are cited {arxiv_ratio} on average by other authors')"
   ]
  },
  {
   "cell_type": "markdown",
   "id": "bb0a70b3-8405-4a18-8765-947e244854b8",
   "metadata": {},
   "source": [
    "[ref]: #top\n",
    "[top][ref]"
   ]
  },
  {
   "cell_type": "markdown",
   "id": "e2adf95e-b994-4c2a-a3c0-f19c648f9dc4",
   "metadata": {
    "execution": {
     "iopub.execute_input": "2023-11-07T16:40:58.382570Z",
     "iopub.status.busy": "2023-11-07T16:40:58.381217Z",
     "iopub.status.idle": "2023-11-07T16:40:59.047746Z",
     "shell.execute_reply": "2023-11-07T16:40:59.046037Z",
     "shell.execute_reply.started": "2023-11-07T16:40:58.382472Z"
    },
    "tags": []
   },
   "source": [
    "<a name=\"analy_6\"></a>\n",
    "### Get the proportion of papers with funding\n",
    "\n",
    "General Formula:\n",
    "\n",
    "$$\\%\\text{Percentage Articles with Funders} = \\frac{\\text{Articles with Funding}}{\\text{Total Articles}} \\cdot 100$$"
   ]
  },
  {
   "cell_type": "code",
   "execution_count": 157,
   "id": "d8607cf4-7837-4632-ba03-91cdfda781f1",
   "metadata": {
    "execution": {
     "iopub.execute_input": "2023-11-07T23:47:25.300751Z",
     "iopub.status.busy": "2023-11-07T23:47:25.299864Z",
     "iopub.status.idle": "2023-11-07T23:47:28.891157Z",
     "shell.execute_reply": "2023-11-07T23:47:28.889713Z",
     "shell.execute_reply.started": "2023-11-07T23:47:25.300669Z"
    },
    "tags": []
   },
   "outputs": [
    {
     "data": {
      "text/html": [
       "<div>\n",
       "<style scoped>\n",
       "    .dataframe tbody tr th:only-of-type {\n",
       "        vertical-align: middle;\n",
       "    }\n",
       "\n",
       "    .dataframe tbody tr th {\n",
       "        vertical-align: top;\n",
       "    }\n",
       "\n",
       "    .dataframe thead th {\n",
       "        text-align: right;\n",
       "    }\n",
       "</style>\n",
       "<table border=\"1\" class=\"dataframe\">\n",
       "  <thead>\n",
       "    <tr style=\"text-align: right;\">\n",
       "      <th></th>\n",
       "      <th>percentage_funded</th>\n",
       "      <th>funded</th>\n",
       "      <th>total</th>\n",
       "    </tr>\n",
       "  </thead>\n",
       "  <tbody>\n",
       "    <tr>\n",
       "      <th>0</th>\n",
       "      <td>6.31</td>\n",
       "      <td>3712</td>\n",
       "      <td>58834</td>\n",
       "    </tr>\n",
       "  </tbody>\n",
       "</table>\n",
       "</div>"
      ],
      "text/plain": [
       "   percentage_funded  funded  total\n",
       "0               6.31    3712  58834"
      ]
     },
     "execution_count": 157,
     "metadata": {},
     "output_type": "execute_result"
    }
   ],
   "source": [
    "sql_str = \"\"\"\n",
    "SELECT\n",
    "    round(\n",
    "        cast(sum(\n",
    "            case\n",
    "                when o.top_funder is not null then 1\n",
    "                else 0\n",
    "                end\n",
    "        ) as REAL)/\n",
    "        cast(count(*) as REAL)*100,\n",
    "        2\n",
    "    ) as percentage_funded,\n",
    "    sum(\n",
    "        case\n",
    "                when o.top_funder is not null then 1\n",
    "                else 0\n",
    "                end\n",
    "    ) as funded,\n",
    "    count(*) as total\n",
    "FROM\n",
    "openalex o\n",
    "LEFT JOIN arxiv a\n",
    "    ON a.doi = o.doi\n",
    "WHERE o.is_oa = 1 OR arxiv_id is not null\n",
    "\"\"\"\n",
    "df_fund_oa = pd.read_sql(sql_str, db_conn)\n",
    "df_fund_oa"
   ]
  },
  {
   "cell_type": "code",
   "execution_count": 158,
   "id": "f194a16f-68db-49b9-a0b3-51b628f6ef1f",
   "metadata": {
    "execution": {
     "iopub.execute_input": "2023-11-07T23:47:28.894151Z",
     "iopub.status.busy": "2023-11-07T23:47:28.893640Z",
     "iopub.status.idle": "2023-11-07T23:47:28.900801Z",
     "shell.execute_reply": "2023-11-07T23:47:28.899571Z",
     "shell.execute_reply.started": "2023-11-07T23:47:28.894020Z"
    },
    "tags": []
   },
   "outputs": [
    {
     "name": "stdout",
     "output_type": "stream",
     "text": [
      "6.31 % of open access papers are funded\n"
     ]
    }
   ],
   "source": [
    "oa_funded_percentage = df_fund_oa.iloc[0, 0]\n",
    "print(f'{oa_funded_percentage} % of open access papers are funded')"
   ]
  },
  {
   "cell_type": "code",
   "execution_count": 159,
   "id": "de9360d6-20e8-41d2-86de-4515833d6b2b",
   "metadata": {
    "execution": {
     "iopub.execute_input": "2023-11-07T23:47:28.902436Z",
     "iopub.status.busy": "2023-11-07T23:47:28.902114Z",
     "iopub.status.idle": "2023-11-07T23:47:30.699096Z",
     "shell.execute_reply": "2023-11-07T23:47:30.697955Z",
     "shell.execute_reply.started": "2023-11-07T23:47:28.902408Z"
    },
    "tags": []
   },
   "outputs": [
    {
     "data": {
      "text/html": [
       "<div>\n",
       "<style scoped>\n",
       "    .dataframe tbody tr th:only-of-type {\n",
       "        vertical-align: middle;\n",
       "    }\n",
       "\n",
       "    .dataframe tbody tr th {\n",
       "        vertical-align: top;\n",
       "    }\n",
       "\n",
       "    .dataframe thead th {\n",
       "        text-align: right;\n",
       "    }\n",
       "</style>\n",
       "<table border=\"1\" class=\"dataframe\">\n",
       "  <thead>\n",
       "    <tr style=\"text-align: right;\">\n",
       "      <th></th>\n",
       "      <th>percentage_funded</th>\n",
       "      <th>funded</th>\n",
       "      <th>total</th>\n",
       "    </tr>\n",
       "  </thead>\n",
       "  <tbody>\n",
       "    <tr>\n",
       "      <th>0</th>\n",
       "      <td>12.36</td>\n",
       "      <td>8470</td>\n",
       "      <td>68525</td>\n",
       "    </tr>\n",
       "  </tbody>\n",
       "</table>\n",
       "</div>"
      ],
      "text/plain": [
       "   percentage_funded  funded  total\n",
       "0              12.36    8470  68525"
      ]
     },
     "execution_count": 159,
     "metadata": {},
     "output_type": "execute_result"
    }
   ],
   "source": [
    "sql_str = \"\"\"\n",
    "SELECT\n",
    "    round(\n",
    "        cast(sum(\n",
    "            case\n",
    "                when o.top_funder is not null then 1\n",
    "                else 0\n",
    "                end\n",
    "        ) as REAL)/\n",
    "        cast(count(*) as REAL)*100,\n",
    "        2\n",
    "    ) as percentage_funded,\n",
    "    sum(\n",
    "        case\n",
    "                when o.top_funder is not null then 1\n",
    "                else 0\n",
    "                end\n",
    "    ) as funded,\n",
    "    count(*) as total\n",
    "FROM\n",
    "openalex o\n",
    "LEFT JOIN arxiv a\n",
    "    ON a.doi = o.doi\n",
    "WHERE a.doi IS NULL AND\n",
    "o.is_oa = 0\n",
    "\"\"\"\n",
    "df_fund_not_oa = pd.read_sql(sql_str, db_conn)\n",
    "df_fund_not_oa"
   ]
  },
  {
   "cell_type": "code",
   "execution_count": 160,
   "id": "84d477f9-fd81-4fa4-a5d4-b964352a5d7f",
   "metadata": {
    "execution": {
     "iopub.execute_input": "2023-11-07T23:47:30.701625Z",
     "iopub.status.busy": "2023-11-07T23:47:30.701301Z",
     "iopub.status.idle": "2023-11-07T23:47:30.707074Z",
     "shell.execute_reply": "2023-11-07T23:47:30.706232Z",
     "shell.execute_reply.started": "2023-11-07T23:47:30.701585Z"
    },
    "tags": []
   },
   "outputs": [
    {
     "name": "stdout",
     "output_type": "stream",
     "text": [
      "12.36 % of not open access papers are funded\n"
     ]
    }
   ],
   "source": [
    "not_oa_funded_percentage = df_fund_not_oa.iloc[0, 0]\n",
    "print(f'{not_oa_funded_percentage} % of not open access papers are funded')"
   ]
  },
  {
   "cell_type": "code",
   "execution_count": 161,
   "id": "ee3339f4-fe4f-439d-93b5-c5749dc4a5a4",
   "metadata": {
    "execution": {
     "iopub.execute_input": "2023-11-07T23:47:30.710106Z",
     "iopub.status.busy": "2023-11-07T23:47:30.708956Z",
     "iopub.status.idle": "2023-11-07T23:47:32.579298Z",
     "shell.execute_reply": "2023-11-07T23:47:32.578285Z",
     "shell.execute_reply.started": "2023-11-07T23:47:30.710037Z"
    },
    "tags": []
   },
   "outputs": [
    {
     "data": {
      "text/html": [
       "<div>\n",
       "<style scoped>\n",
       "    .dataframe tbody tr th:only-of-type {\n",
       "        vertical-align: middle;\n",
       "    }\n",
       "\n",
       "    .dataframe tbody tr th {\n",
       "        vertical-align: top;\n",
       "    }\n",
       "\n",
       "    .dataframe thead th {\n",
       "        text-align: right;\n",
       "    }\n",
       "</style>\n",
       "<table border=\"1\" class=\"dataframe\">\n",
       "  <thead>\n",
       "    <tr style=\"text-align: right;\">\n",
       "      <th></th>\n",
       "      <th>percentage_funded</th>\n",
       "      <th>funded</th>\n",
       "      <th>total</th>\n",
       "    </tr>\n",
       "  </thead>\n",
       "  <tbody>\n",
       "    <tr>\n",
       "      <th>0</th>\n",
       "      <td>44.55</td>\n",
       "      <td>147</td>\n",
       "      <td>330</td>\n",
       "    </tr>\n",
       "  </tbody>\n",
       "</table>\n",
       "</div>"
      ],
      "text/plain": [
       "   percentage_funded  funded  total\n",
       "0              44.55     147    330"
      ]
     },
     "execution_count": 161,
     "metadata": {},
     "output_type": "execute_result"
    }
   ],
   "source": [
    "sql_str = \"\"\"\n",
    "SELECT\n",
    "    round(\n",
    "        cast(sum(\n",
    "            case\n",
    "                when o.top_funder is not null then 1\n",
    "                else 0\n",
    "                end\n",
    "        ) as REAL)/\n",
    "        cast(count(*) as REAL)*100,\n",
    "        2\n",
    "    ) as percentage_funded,\n",
    "    sum(\n",
    "        case\n",
    "                when o.top_funder is not null then 1\n",
    "                else 0\n",
    "                end\n",
    "    ) as funded,\n",
    "    count(*) as total\n",
    "FROM\n",
    "openaccess o\n",
    "INNER JOIN arxiv a\n",
    "    on o.doi = a.doi\n",
    "\"\"\"\n",
    "df_fund_arxiv = pd.read_sql(sql_str, db_conn)\n",
    "df_fund_arxiv"
   ]
  },
  {
   "cell_type": "code",
   "execution_count": 162,
   "id": "173b4e88-e45b-4c0d-bc89-aa7996ed5586",
   "metadata": {
    "execution": {
     "iopub.execute_input": "2023-11-07T23:47:32.580785Z",
     "iopub.status.busy": "2023-11-07T23:47:32.580457Z",
     "iopub.status.idle": "2023-11-07T23:47:32.585854Z",
     "shell.execute_reply": "2023-11-07T23:47:32.585017Z",
     "shell.execute_reply.started": "2023-11-07T23:47:32.580749Z"
    },
    "tags": []
   },
   "outputs": [
    {
     "name": "stdout",
     "output_type": "stream",
     "text": [
      "44.55 % of ArXiv papers are funded\n"
     ]
    }
   ],
   "source": [
    "arxiv_funded_percentage = df_fund_arxiv.iloc[0, 0]\n",
    "print(f'{arxiv_funded_percentage} % of ArXiv papers are funded')"
   ]
  },
  {
   "cell_type": "code",
   "execution_count": 163,
   "id": "3e166216-5abb-45cb-ada4-fbdd91b0909f",
   "metadata": {
    "execution": {
     "iopub.execute_input": "2023-11-07T23:47:32.587214Z",
     "iopub.status.busy": "2023-11-07T23:47:32.586916Z",
     "iopub.status.idle": "2023-11-07T23:47:32.597441Z",
     "shell.execute_reply": "2023-11-07T23:47:32.596471Z",
     "shell.execute_reply.started": "2023-11-07T23:47:32.587187Z"
    },
    "tags": []
   },
   "outputs": [
    {
     "name": "stdout",
     "output_type": "stream",
     "text": [
      "total articles: 127689\n",
      "funded articles: 12329\n",
      "unfunded articles: 115360\n",
      "unfunded: 90.34 %\n",
      "funded: 9.66 %\n",
      "oa funded: 2.91 %\n",
      "not oa funded: 6.63 %\n",
      "arxiv funded: 0.12 %\n"
     ]
    }
   ],
   "source": [
    "total_articles = df_fund_arxiv.iloc[0, 2] + df_fund_oa.iloc[0, 2] + \\\n",
    "    df_fund_not_oa.iloc[0, 2]\n",
    "print(f'total articles: {total_articles}')\n",
    "funded_articles = df_fund_arxiv.iloc[0, 1] + df_fund_oa.iloc[0, 1] + \\\n",
    "    df_fund_not_oa.iloc[0, 1]\n",
    "print(f'funded articles: {funded_articles}')\n",
    "unfunded_articles = total_articles - funded_articles\n",
    "print(f'unfunded articles: {unfunded_articles}')\n",
    "\n",
    "unfunded_p = unfunded_articles/total_articles * 100\n",
    "print(f'unfunded: {unfunded_p:.2f} %')\n",
    "funded_p = funded_articles/total_articles * 100\n",
    "print(f'funded: {funded_p:.2f} %')\n",
    "oa_funded_p = df_fund_oa.iloc[0, 1]/total_articles * 100\n",
    "print(f'oa funded: {oa_funded_p:.2f} %')\n",
    "not_oa_funded_p = df_fund_not_oa.iloc[0, 1]/total_articles * 100\n",
    "print(f'not oa funded: {not_oa_funded_p:.2f} %')\n",
    "arxiv_funded_p = df_fund_arxiv.iloc[0, 1]/total_articles * 100\n",
    "print(f'arxiv funded: {arxiv_funded_p:.2f} %')"
   ]
  },
  {
   "cell_type": "markdown",
   "id": "af617d8d-bf90-4b58-a0c8-cbbf8708def7",
   "metadata": {},
   "source": [
    "[ref]: #top\n",
    "[top][ref]"
   ]
  },
  {
   "cell_type": "markdown",
   "id": "19c45bf9-0033-4e74-a5de-f5588240b472",
   "metadata": {},
   "source": [
    "<a name=\"analy_7\"></a>\n",
    "### Vizualizations"
   ]
  },
  {
   "cell_type": "markdown",
   "id": "e094a79a-db69-419a-8bac-595688a33e84",
   "metadata": {
    "execution": {
     "iopub.execute_input": "2023-11-07T00:00:54.025399Z",
     "iopub.status.busy": "2023-11-07T00:00:54.024902Z",
     "iopub.status.idle": "2023-11-07T00:00:54.031069Z",
     "shell.execute_reply": "2023-11-07T00:00:54.029573Z",
     "shell.execute_reply.started": "2023-11-07T00:00:54.025356Z"
    },
    "tags": []
   },
   "source": [
    "<a name=\"analy_7_1\"></a>\n",
    "#### Cited by Ratios and Open Access Percentages"
   ]
  },
  {
   "cell_type": "code",
   "execution_count": 176,
   "id": "ae197fb1-9e5e-4b29-ad23-3be4a4614a7e",
   "metadata": {
    "execution": {
     "iopub.execute_input": "2023-11-08T02:51:34.787409Z",
     "iopub.status.busy": "2023-11-08T02:51:34.786804Z",
     "iopub.status.idle": "2023-11-08T02:51:34.795690Z",
     "shell.execute_reply": "2023-11-08T02:51:34.794135Z",
     "shell.execute_reply.started": "2023-11-08T02:51:34.787338Z"
    },
    "tags": []
   },
   "outputs": [],
   "source": [
    "# plt.style.use(\"dark_background\")\n",
    "plt.style.use(\"default\")"
   ]
  },
  {
   "cell_type": "code",
   "execution_count": 177,
   "id": "bf960762-2e91-4d1b-8109-9fdb5558a697",
   "metadata": {
    "execution": {
     "iopub.execute_input": "2023-11-08T02:51:36.531157Z",
     "iopub.status.busy": "2023-11-08T02:51:36.530555Z",
     "iopub.status.idle": "2023-11-08T02:51:36.800341Z",
     "shell.execute_reply": "2023-11-08T02:51:36.798987Z",
     "shell.execute_reply.started": "2023-11-08T02:51:36.531118Z"
    },
    "tags": []
   },
   "outputs": [
    {
     "data": {
      "image/png": "[encoded data removed]",
      "text/plain": [
       "<Figure size 640x480 with 2 Axes>"
      ]
     },
     "metadata": {},
     "output_type": "display_data"
    }
   ],
   "source": [
    "fig, (ax1, ax2) = plt.subplots(\n",
    "    1, 2,\n",
    ")\n",
    "textprops = {\"fontsize\": 10}\n",
    "ax2.pie(\n",
    "    [\n",
    "        oa_percentage,\n",
    "        not_oa_percentage,\n",
    "        arxiv_only_percentage\n",
    "    ],\n",
    "    labels=[\n",
    "        'open access',\n",
    "        'not open access',\n",
    "        'arxiv only'\n",
    "    ],\n",
    "    explode=[0, 0, 0.2],\n",
    "    autopct='%1.2f%%',\n",
    "    startangle=60,\n",
    "    textprops=textprops,\n",
    "    colors=['green', 'red', 'blue']\n",
    ")\n",
    "ax2.set_title('Open Access Percentage')\n",
    "\n",
    "bars = ax1.bar(\n",
    "    ['oa', 'not oa', 'arxiv'],\n",
    "    [oa_cited_ratio, not_oa_cited_ratio, arxiv_ratio],\n",
    "    color=['green', 'red', 'blue']\n",
    ")\n",
    "for bar, value in zip(bars, [oa_cited_ratio, not_oa_cited_ratio, arxiv_ratio]):\n",
    "    ax1.text(\n",
    "        bar.get_x() + bar.get_width() / 2,\n",
    "        value,\n",
    "        str(value),\n",
    "        ha='center',\n",
    "        va='bottom'\n",
    "    )\n",
    "\n",
    "ax1.set_yticks([0, 0.5, 1])\n",
    "ax1.set_ylabel('ratio')\n",
    "ax1.set_xlabel('access type')\n",
    "ax1.set_title('Cited by Ratios')\n",
    "plt.subplots_adjust(right=1.3)\n",
    "plt.show()"
   ]
  },
  {
   "cell_type": "markdown",
   "id": "dfde4155-92d4-46f1-a266-d2c08c8abd42",
   "metadata": {
    "execution": {
     "iopub.execute_input": "2023-11-07T17:56:07.625824Z",
     "iopub.status.busy": "2023-11-07T17:56:07.625302Z",
     "iopub.status.idle": "2023-11-07T17:56:07.631667Z",
     "shell.execute_reply": "2023-11-07T17:56:07.630559Z",
     "shell.execute_reply.started": "2023-11-07T17:56:07.625778Z"
    },
    "tags": []
   },
   "source": [
    "<a name=\"analy_7_2\"></a>\n",
    "#### Funding Percentages"
   ]
  },
  {
   "cell_type": "code",
   "execution_count": 178,
   "id": "ce27b0a0-1d42-43a1-8287-fdf33959daad",
   "metadata": {
    "execution": {
     "iopub.execute_input": "2023-11-08T02:51:37.738761Z",
     "iopub.status.busy": "2023-11-08T02:51:37.737828Z",
     "iopub.status.idle": "2023-11-08T02:51:38.292862Z",
     "shell.execute_reply": "2023-11-08T02:51:38.291950Z",
     "shell.execute_reply.started": "2023-11-08T02:51:37.738711Z"
    },
    "tags": []
   },
   "outputs": [
    {
     "data": {
      "image/png": "[encoded data removed]",
      "text/plain": [
       "<Figure size 310x310 with 1 Axes>"
      ]
     },
     "metadata": {},
     "output_type": "display_data"
    },
    {
     "data": {
      "image/png": "[encoded data removed]",
      "text/plain": [
       "<Figure size 1100x1100 with 4 Axes>"
      ]
     },
     "metadata": {},
     "output_type": "display_data"
    }
   ],
   "source": [
    "textprops = {\"fontsize\": 8}\n",
    "fig0, (ax0) = plt.subplots(\n",
    "    1, 1,\n",
    "    figsize=(3.1, 3.1)\n",
    ")\n",
    "\n",
    "ax0.pie(\n",
    "    [\n",
    "        unfunded_p, oa_funded_p, not_oa_funded_p, arxiv_funded_p\n",
    "    ],\n",
    "    labels=[\n",
    "        'unfunded', 'oa funded', 'not oa funded', 'arxiv funded'\n",
    "    ],\n",
    "    explode=[0, 0.7, 0.7, 0.7],\n",
    "    autopct='%1.2f%%',\n",
    "    startangle=60,\n",
    "    textprops=textprops,\n",
    "    colors=['red', 'green', 'orange', 'lightblue'],\n",
    ")\n",
    "ax0.set_title('All Articles Percentage', fontsize=8)\n",
    "\n",
    "fig, (ax1, ax2, ax3, ax4) = plt.subplots(\n",
    "    1, 4,\n",
    "    figsize=(11, 11)\n",
    ")\n",
    "\n",
    "ax1.pie(\n",
    "    [\n",
    "        df_fund_oa.iloc[0, 1]/funded_articles*100,\n",
    "        df_fund_not_oa.iloc[0, 1]/funded_articles*100,\n",
    "        df_fund_arxiv.iloc[0, 1]/funded_articles*100,\n",
    "    ],\n",
    "    labels=[\n",
    "        'oa funded', 'not oa funded', 'arxiv funded'\n",
    "    ],\n",
    "    explode=[0, 0, 0.7],\n",
    "    autopct='%1.2f%%',\n",
    "    startangle=60,\n",
    "    textprops=textprops,\n",
    "    colors=['green', 'red', 'orange']\n",
    ")\n",
    "ax1.set_title('Funded Percentage', fontsize=8)\n",
    "\n",
    "ax2.pie(\n",
    "    [\n",
    "        oa_funded_percentage,\n",
    "        100-oa_funded_percentage,\n",
    "    ],\n",
    "    labels=[\n",
    "        'funded',\n",
    "        'unfunded',\n",
    "    ],\n",
    "    autopct='%1.2f%%',\n",
    "    startangle=60,\n",
    "    textprops=textprops,\n",
    "    colors=['green', 'red']\n",
    ")\n",
    "ax2.set_title('Open Access Funded Percentage', fontsize=8)\n",
    "\n",
    "ax3.pie(\n",
    "    [\n",
    "        arxiv_funded_percentage,\n",
    "        100-arxiv_funded_percentage,\n",
    "    ],\n",
    "    labels=[\n",
    "        'funded',\n",
    "        'unfunded',\n",
    "    ],\n",
    "    autopct='%1.2f%%',\n",
    "    startangle=60,\n",
    "    textprops=textprops,\n",
    "    colors=['green', 'red']\n",
    ")\n",
    "ax3.set_title('ArXiv Only Funded Percentage', fontsize=8)\n",
    "\n",
    "ax4.pie(\n",
    "    [\n",
    "        not_oa_funded_percentage,\n",
    "        100-not_oa_funded_percentage,\n",
    "    ],\n",
    "    labels=[\n",
    "        'funded',\n",
    "        'unfunded',\n",
    "    ],\n",
    "    autopct='%1.2f%%',\n",
    "    startangle=60,\n",
    "    textprops=textprops,\n",
    "    colors=['green', 'red']\n",
    ")\n",
    "ax4.set_title('Not Open Access Funded Percentage', fontsize=8)\n",
    "\n",
    "plt.subplots_adjust(right=1.3)\n",
    "plt.show()"
   ]
  },
  {
   "cell_type": "markdown",
   "id": "b4cb3a63-41e9-4d82-81cc-28d024263319",
   "metadata": {},
   "source": [
    "[ref]: #top\n",
    "[top][ref]"
   ]
  },
  {
   "cell_type": "markdown",
   "id": "92b4fdfa-94e7-4080-9432-9270cc90d963",
   "metadata": {},
   "source": [
    "<a name=\"analy_7_3\"></a>\n",
    "#### Top 5 Insights"
   ]
  },
  {
   "cell_type": "code",
   "execution_count": 179,
   "id": "3c5ab266-6555-42bf-8cb1-880cf5f984a4",
   "metadata": {
    "execution": {
     "iopub.execute_input": "2023-11-08T02:51:39.352721Z",
     "iopub.status.busy": "2023-11-08T02:51:39.352193Z",
     "iopub.status.idle": "2023-11-08T02:51:39.978581Z",
     "shell.execute_reply": "2023-11-08T02:51:39.977546Z",
     "shell.execute_reply.started": "2023-11-08T02:51:39.352673Z"
    },
    "tags": []
   },
   "outputs": [
    {
     "data": {
      "image/png": "[encoded data removed]",
      "text/plain": [
       "<Figure size 640x480 with 3 Axes>"
      ]
     },
     "metadata": {},
     "output_type": "display_data"
    }
   ],
   "source": [
    "fig, (ax1, ax2, ax3) = plt.subplots(\n",
    "    1, 3,\n",
    ")\n",
    "ax1.bar(top_5_c_oa.index, top_5_c_oa.values)\n",
    "ax1.set_xlabel(\"country code\")\n",
    "ax1.set_ylabel(\"article count\")\n",
    "ax1.tick_params(axis='x', labelsize=8)\n",
    "ax1.tick_params(axis='y', labelsize=8)\n",
    "ax1.yaxis.set_major_formatter(thousand_formatter)\n",
    "for i in ax1.containers:\n",
    "    ax1.bar_label(i, fmt=thousand_formatter, fontsize=8)\n",
    "\n",
    "ax2.bar(top_5_c_arx.index, top_5_c_arx.values)\n",
    "ax2.set_xlabel(\"country code\")\n",
    "ax2.set_ylabel(\"article count\")\n",
    "ax2.tick_params(axis='x', labelsize=8)\n",
    "ax2.tick_params(axis='y', labelsize=8)\n",
    "for i in ax2.containers:\n",
    "    ax2.bar_label(i, fontsize=8)\n",
    "\n",
    "ax3.bar(top_5_c_not_oa.index, top_5_c_not_oa.values)\n",
    "ax3.set_xlabel(\"country code\")\n",
    "ax3.set_ylabel(\"article count\")\n",
    "ax3.tick_params(axis='x', labelsize=8)\n",
    "ax3.tick_params(axis='y', labelsize=8)\n",
    "ax3.yaxis.set_major_formatter(thousand_formatter)\n",
    "for i in ax3.containers:\n",
    "    ax3.bar_label(i, fmt=thousand_formatter, fontsize=8)\n",
    "\n",
    "suptitle = plt.suptitle('Top 5 Countries')\n",
    "suptitle.set_position([0.75, 1])\n",
    "\n",
    "ax1.set_title('Open Access')\n",
    "ax2.set_title('ArXiv Only')\n",
    "ax3.set_title('Not open access')\n",
    "\n",
    "plt.subplots_adjust(right=2)\n",
    "plt.show()"
   ]
  },
  {
   "cell_type": "code",
   "execution_count": 180,
   "id": "ae7c2077-402a-4a17-852c-fcbc3d93b64e",
   "metadata": {
    "execution": {
     "iopub.execute_input": "2023-11-08T02:51:40.422209Z",
     "iopub.status.busy": "2023-11-08T02:51:40.421686Z",
     "iopub.status.idle": "2023-11-08T02:51:45.357981Z",
     "shell.execute_reply": "2023-11-08T02:51:45.356974Z",
     "shell.execute_reply.started": "2023-11-08T02:51:40.422160Z"
    },
    "tags": []
   },
   "outputs": [
    {
     "data": {
      "image/png": "[encoded data removed]",
      "text/plain": [
       "<Figure size 1000x500 with 3 Axes>"
      ]
     },
     "metadata": {},
     "output_type": "display_data"
    }
   ],
   "source": [
    "fig, (ax1, ax2, ax3) = plt.subplots(\n",
    "    3, 1,\n",
    "    figsize=(10, 5)\n",
    ")\n",
    "ax1.barh(top_5_con_oa.index, top_5_con_oa.values)\n",
    "ax1.set_ylabel(\"concept\")\n",
    "ax1.set_xlabel(\"article count\")\n",
    "ax1.tick_params(axis='x', labelsize=8)\n",
    "ax1.tick_params(axis='y', labelsize=8)\n",
    "for i in ax1.containers:\n",
    "    ax1.bar_label(i, fmt=thousand_formatter, padding=-40, fontsize=8)\n",
    "\n",
    "ax2.barh(top_5_con_arx.index, top_5_con_arx.values)\n",
    "ax2.set_ylabel(\"concept\")\n",
    "ax2.set_xlabel(\"article count\")\n",
    "ax2.tick_params(axis='x', labelsize=8)\n",
    "ax2.tick_params(axis='y', labelsize=8)\n",
    "for i in ax2.containers:\n",
    "    ax2.bar_label(i, padding=-1, fontsize=8)\n",
    "\n",
    "ax3.barh(top_5_con_not_oa.index, top_5_con_not_oa.values)\n",
    "ax3.set_ylabel(\"concept\")\n",
    "ax3.set_xlabel(\"article count\")\n",
    "ax3.tick_params(axis='x', labelsize=8)\n",
    "ax3.tick_params(axis='y', labelsize=8)\n",
    "for i in ax3.containers:\n",
    "    ax3.bar_label(i, fmt=thousand_formatter, padding=-40, fontsize=8)\n",
    "\n",
    "suptitle = plt.suptitle('Top 5 Concepts')\n",
    "suptitle.set_position([0.5, 2.6])\n",
    "\n",
    "ax1.set_title('Open Access')\n",
    "ax2.set_title('ArXiv Only')\n",
    "ax3.set_title('Not Open Access')\n",
    "\n",
    "plt.subplots_adjust(top=2.5)\n",
    "plt.show()"
   ]
  },
  {
   "cell_type": "markdown",
   "id": "736d4953-7641-427c-8157-910c23fe519d",
   "metadata": {},
   "source": [
    "[ref]: #top\n",
    "[top][ref]"
   ]
  },
  {
   "cell_type": "markdown",
   "id": "aeec0250-65ab-42af-8fed-317d12f9834e",
   "metadata": {},
   "source": [
    "<a name=\"conc\"></a>\n",
    "## Conclusion\n",
    "***\n",
    "The report finds that almost half of all articles are open access, with ArXiV only contributing a small percentage of the open access contribution of new research generated from 2022 to the present.\n",
    "\n",
    "We find that the United States, China, and Indonesia are the biggest contributors to research in the time period for both open access and paid access research work. The United States, in particular, leads the production of new open access articles by a wide margin against China but only by a small one in terms of paid access articles. India and Great Britain are also top contributors to open access articles, while Germany and Japan join the top 5 contributors for paid access articles. In all cases, the top contributors to new research in the period are from developed or rapidly developing countries, an indication of the presence of an income element to research generation. Less developed societies are thus twice disadvantaged, first by their lack of access to research barred by paywalls, and second, by their lackluster capacity to conduct research. It is therefore a welcome development that the United States \n",
    "\n",
    "Suprisingly, new articles that are behind a paywall are cited more times (0.71 times) than open acess articles (0.42 times), though open access articles coming specifically from ArXiv significantly gets cited more often than its open access peers (1.16 times). It is likely that new open access articles are cited less than new paid access articles because of the quality of research as its generally expected for paywall-locked articles to be better in quality compared to open access counterparts. Articles in ArXiv tend to be cited more than the other two groups, suggesting that if an article is hosted in ArXiv, then it should be a top tier article to cite. It bears noting, however, that these citation numbers may change as time passes. Investigating this may be the subject of a new report.\n",
    "\n",
    "In terms of articles with grants/funding, a significant percentage of articles are unfunded (90.34%). With respect to the subset of funded articles, it is observed that paid access articles' funding percentage is significantly high (68.70%), which may contribute to the quality of paid access research work. Finally, of all the partitions ArXiv articles are getting good funding (44.55% funded) compared to open access (6.31% funded) and paid access (12.36%) in general. If paid access articles are, indeed, of higher quality than open access ones, it is unfortunate that some quality knowledge offered by paid access articles are locked behind financial barriers.\n",
    "\n",
    "As for research themes, computer science, a field closely related to technological development, dominates both the open access and paid access research space. Because the pace of technological advancement depends on how freely knowledge resources are generated, transferred, and spilled over, it is not surprising to see this field dominating both the open research and paid access research space. It is also a positive development that a large chunk of computer science research is available to use for free. For ArXiV-indexed articles, research work on physics form the top research theme, followed by computer science. Medicine is the second most popular field of research, though there are fewer open access articles on medicine than paid. Chemistry also makes an appearance in both open access and paid access research index in OpenAlex.\n",
    "\n",
    "The results indicate positive developments for open access research in the world. However, there is room for improvement. It is shown that the United States is, by a vast margin, the biggest contributor to open access research in the world. This may be because the United States simply produces a sheer volume of research work. Nevertheless, the rest of the world should do more in terms of doing open access research. More open access research in crucial fields such as medicine would also be more beneficial to the world."
   ]
  },
  {
   "cell_type": "markdown",
   "id": "cfed87ac-5a7e-469f-be1c-580297f8232c",
   "metadata": {},
   "source": [
    "[ref]: #top\n",
    "[top][ref]"
   ]
  },
  {
   "cell_type": "markdown",
   "id": "daad6fd5-8999-4492-b516-219539cbb327",
   "metadata": {},
   "source": [
    "<a name=\"rfn\"></a>\n",
    "## References\n",
    "***\n",
    "\n",
    "[1] https://openalex.org/https://openalex.org/"
   ]
  },
  {
   "cell_type": "markdown",
   "id": "16f28a8d-57ad-4d92-8536-2c4e9f684b15",
   "metadata": {},
   "source": [
    "[ref]: #top\n",
    "[top][ref]"
   ]
  },
  {
   "cell_type": "code",
   "execution_count": 206,
   "id": "ad3592e7-3a11-4403-9a31-e1cd3f742ebc",
   "metadata": {
    "execution": {
     "iopub.execute_input": "2023-11-09T11:06:03.868089Z",
     "iopub.status.busy": "2023-11-09T11:06:03.867549Z",
     "iopub.status.idle": "2023-11-09T11:06:03.877595Z",
     "shell.execute_reply": "2023-11-09T11:06:03.876473Z",
     "shell.execute_reply.started": "2023-11-09T11:06:03.868041Z"
    },
    "tags": []
   },
   "outputs": [],
   "source": [
    "db_conn.close()"
   ]
  },
  {
   "cell_type": "code",
   "execution_count": null,
   "id": "d0d305a5-1e2e-434a-ae98-09315d674af0",
   "metadata": {},
   "outputs": [],
   "source": []
  }
 ],
 "metadata": {
  "kernelspec": {
   "display_name": "Python 3 (ipykernel)",
   "language": "python",
   "name": "python3"
  },
  "language_info": {
   "codemirror_mode": {
    "name": "ipython",
    "version": 3
   },
   "file_extension": ".py",
   "mimetype": "text/x-python",
   "name": "python",
   "nbconvert_exporter": "python",
   "pygments_lexer": "ipython3",
   "version": "3.10.12"
  },
  "toc-showcode": false,
  "toc-showtags": false
 },
 "nbformat": 4,
 "nbformat_minor": 5
}
